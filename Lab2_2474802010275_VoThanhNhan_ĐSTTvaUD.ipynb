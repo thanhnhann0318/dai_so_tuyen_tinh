{
  "nbformat": 4,
  "nbformat_minor": 0,
  "metadata": {
    "colab": {
      "provenance": []
    },
    "kernelspec": {
      "name": "python3",
      "display_name": "Python 3"
    },
    "language_info": {
      "name": "python"
    }
  },
  "cells": [
    {
      "cell_type": "markdown",
      "source": [
        "BÀI TẬP TRÊN LỚP"
      ],
      "metadata": {
        "id": "ntn7nIyBXt1g"
      }
    },
    {
      "cell_type": "code",
      "execution_count": null,
      "metadata": {
        "colab": {
          "base_uri": "https://localhost:8080/"
        },
        "id": "F0Wour1PUuus",
        "outputId": "bd716a3a-c4b4-4b56-9d62-13eaa4f8eadf"
      },
      "outputs": [
        {
          "output_type": "execute_result",
          "data": {
            "text/plain": [
              "[30, 50, 70]"
            ]
          },
          "metadata": {},
          "execution_count": 3
        }
      ],
      "source": [
        "# Bài trên Lớp\n",
        "# Bài 1\n",
        "def scale(a, v):\n",
        "    return [a * i for i in v]\n",
        "v = [3, 5, 7]\n",
        "scale(10, v)"
      ]
    },
    {
      "cell_type": "code",
      "source": [
        "def sumvector(v, w):\n",
        "    return [vi + wi for (vi, wi) in zip(v, w)]\n",
        "v = [3, 5, 7]\n",
        "w = [2, 4, 6]\n",
        "sumvector(v, w)\n"
      ],
      "metadata": {
        "colab": {
          "base_uri": "https://localhost:8080/"
        },
        "id": "W_zZVmssX5O9",
        "outputId": "c53a0de1-668b-49eb-c3d5-88a61c186843"
      },
      "execution_count": null,
      "outputs": [
        {
          "output_type": "execute_result",
          "data": {
            "text/plain": [
              "[5, 9, 13]"
            ]
          },
          "metadata": {},
          "execution_count": 4
        }
      ]
    },
    {
      "cell_type": "code",
      "source": [
        "def dotvector(v, w):\n",
        "    return sum(vi * wi for (vi, wi) in zip(v, w))\n",
        "dotvector(v, w)"
      ],
      "metadata": {
        "colab": {
          "base_uri": "https://localhost:8080/"
        },
        "id": "Rtd8fwr5X9Rb",
        "outputId": "c02d6a13-a5ee-4f3a-d016-a446ac8dc26e"
      },
      "execution_count": null,
      "outputs": [
        {
          "output_type": "execute_result",
          "data": {
            "text/plain": [
              "68"
            ]
          },
          "metadata": {},
          "execution_count": 5
        }
      ]
    },
    {
      "cell_type": "code",
      "source": [
        "def lenvector(v):\n",
        "    return dotvector(v, v) ** 0.5\n",
        "lenvector(w)"
      ],
      "metadata": {
        "colab": {
          "base_uri": "https://localhost:8080/"
        },
        "id": "tc-s8iTpYDr3",
        "outputId": "e3ba3375-6763-4157-c7cb-a19d6b131f36"
      },
      "execution_count": null,
      "outputs": [
        {
          "output_type": "execute_result",
          "data": {
            "text/plain": [
              "7.483314773547883"
            ]
          },
          "metadata": {},
          "execution_count": 6
        }
      ]
    },
    {
      "cell_type": "code",
      "source": [
        "# Bài 2\n",
        "def scale(a, v):\n",
        "    return [a * i for i in v]\n",
        "v = [3, 5, 7]\n",
        "scale(10, v)\n"
      ],
      "metadata": {
        "colab": {
          "base_uri": "https://localhost:8080/"
        },
        "id": "cWWTnapFYIc9",
        "outputId": "68a85e41-2ef5-428d-80a3-1228e682b4db"
      },
      "execution_count": null,
      "outputs": [
        {
          "output_type": "execute_result",
          "data": {
            "text/plain": [
              "[30, 50, 70]"
            ]
          },
          "metadata": {},
          "execution_count": 13
        }
      ]
    },
    {
      "cell_type": "code",
      "source": [
        "def sumvector(v, w):\n",
        "    return [vi + wi for (vi, wi) in zip(v, w)]\n",
        "v = [3, 5, 7]\n",
        "w = [2, 4, 6]\n",
        "sumvector(v, w)"
      ],
      "metadata": {
        "colab": {
          "base_uri": "https://localhost:8080/"
        },
        "id": "vTs6KvnnaKFz",
        "outputId": "23ca5819-5f70-4074-d4f1-f7be4019f7af"
      },
      "execution_count": null,
      "outputs": [
        {
          "output_type": "execute_result",
          "data": {
            "text/plain": [
              "[5, 9, 13]"
            ]
          },
          "metadata": {},
          "execution_count": 14
        }
      ]
    },
    {
      "cell_type": "code",
      "source": [
        "def dotvector(v, w):\n",
        "    return sum(vi * wi for (vi, wi) in zip(v, w))\n",
        "dotvector(v, w)"
      ],
      "metadata": {
        "colab": {
          "base_uri": "https://localhost:8080/"
        },
        "id": "TbGpxO7JaO9c",
        "outputId": "71c57a71-8638-441e-846b-5daa30a2da69"
      },
      "execution_count": null,
      "outputs": [
        {
          "output_type": "execute_result",
          "data": {
            "text/plain": [
              "68"
            ]
          },
          "metadata": {},
          "execution_count": 16
        }
      ]
    },
    {
      "cell_type": "code",
      "source": [
        "def lenvector(v):\n",
        "    return dotvector(v, v) ** 0.5\n",
        "lenvector(w)"
      ],
      "metadata": {
        "id": "y2heDg45ag9R"
      },
      "execution_count": null,
      "outputs": []
    },
    {
      "cell_type": "code",
      "source": [
        "import numpy as np\n",
        "scores = np.array([-1, 1, 2, -3, 5, -4])\n",
        "scores >= 0\n",
        "scores < 0\n",
        "np.select([scores >= 0], ['so duong'], default='so am')"
      ],
      "metadata": {
        "colab": {
          "base_uri": "https://localhost:8080/"
        },
        "id": "dQfrNwZiaqC6",
        "outputId": "67f31474-a817-4431-ecb9-0cc3502762f7"
      },
      "execution_count": null,
      "outputs": [
        {
          "output_type": "execute_result",
          "data": {
            "text/plain": [
              "array(['so am', 'so duong', 'so duong', 'so am', 'so duong', 'so am'],\n",
              "      dtype='<U8')"
            ]
          },
          "metadata": {},
          "execution_count": 19
        }
      ]
    },
    {
      "cell_type": "code",
      "source": [
        "import numpy as np\n",
        "scores = np.array([-1, 1, 2, 0, -5, 0])\n",
        "result = np.select(\n",
        "    [scores > 0, scores == 0, scores < 0],\n",
        "    ['so duong', 'so 0', 'so am']\n",
        ")\n",
        "print(result)"
      ],
      "metadata": {
        "id": "wvHkqzw_balX"
      },
      "execution_count": null,
      "outputs": []
    },
    {
      "cell_type": "markdown",
      "source": [
        "**BÀI 3**\n",
        "Câu 1\n",
        ">>> import numpy as np\n",
        ">>> from scipy import linalg, sparse\n",
        "Lệnh để nạp thư viện numpy vào bộ nhớ để xử lý.\n",
        "Tải 2 thư viện linalg và sparse của scipy vào bộ nhớ để sử dụng.\n",
        "\n",
        "Câu 2\n",
        ">>> D = np.mat([ [3,4], [5,6] ])\n",
        ">>> print D\n",
        "Tạo ma trận D kích thước 2x2 với các phần tử đã cho.\n",
        "Kết quả in ra ma trận:\n",
        "[[3 4]\n",
        "[5 6]]\n",
        "\n",
        "Câu 3\n",
        ">>> C =\n",
        "np.mat(np.random.random((5,7)))\n",
        ">>> print C\n",
        "Tạo ma trận C kích thước 5x7 với các phần tử ngẫu nhiên trong khoảng [0,1).\n",
        "In ra ma trận ngẫu nhiên gồm 5 hàng, 7 cột với giá trị float.\n",
        "\n",
        "Câu 4\n",
        ">>> A\n",
        "np.mat(np.random.random((2,2)))\n",
        ">>> print A\n",
        "Tạo ma trận A kích thước 2x2 với các phần tử ngẫu nhiên trong khoảng [0,1).\n",
        "In ra ma trận 2x2 các số thực ngẫu nhiên.\n",
        "\n",
        "Câu 5\n",
        ">>> b = np.array([(1+5j, 2j, 3j),(4, 5,\n",
        "6)])\n",
        ">>> B = np.asmatrix(b)\n",
        "Tạo mảng numpy b gồm các số phức và số thực.\n",
        "Chuyển b thành dạng ma trận B.\n",
        "\n",
        "Câu 6\n",
        ">>> print b\n",
        ">>> print B\n",
        "In ra mảng b và ma trận B.\n",
        "\n",
        "Câu 7\n",
        ">>> A.T\n",
        "Chuyển vị ma trận A (đổi hàng thành cột và ngược lại).\n",
        "\n",
        "Câu 8\n",
        ">>> A.I\n",
        "Hoặc sử dụng lệnh của thư viện\n",
        "scipy:\n",
        ">>> linalg.inv(A)\n",
        "Tính ma trận nghịch đảo của A.\n",
        "Kết quả là ma trận sao cho A * A.I = I (ma trận đơn vị).\n",
        "\n",
        "Câu 9\n",
        ">>> M = np.array([[-1,3,2],[0,-\n",
        "2,1],[1,5,-2]])\n",
        ">>> M_lower = np.tril(M)\n",
        ">>> print(M_lower)\n",
        "Lấy ma trận tam giác dưới của M (các phần tử trên đường chéo chính và dưới đường chéo giữ nguyên, trên đường chéo trên bằng 0).\n",
        "Kết quả:\n",
        "[[-1 0 0]<br> [ 0 -2 0]<br> [ 1 5 -2]]\n",
        "\n",
        ">>> M = np.array([[-1,3,2],[0,-\n",
        "2,1],[1,5,-2]])\n",
        ">>> M_upper = np.triu(M)\n",
        ">>> print(M_upper)\n",
        "Lấy ma trận tam giác trên của M (giữ nguyên phần tử trên đường chéo chính, bên dưới đường chéo bằng 0).\n",
        "Kết quả:\n",
        "[[-1 3 2]<br> [ 0 -2 1]<br> [ 0 0 -2]]\n",
        "\n",
        "Câu 10\n",
        ">>> v_diag = np.diag(M) #vector\n",
        "đường chéo\n",
        ">>> print (v_diag)\n",
        ">>> M_diag = np.diag(v_diag)\n",
        ">>> print (M_diag)\n",
        "Ma trận đơn vị là ma trận có đường chéo là 1, các phần tử khác là 0.\n",
        "- np.diag(M) lấy ra vector chứa các phần tử trên đường chéo chính của ma trận M.\n",
        "Ví dụ với M =\n",
        "[[-1, 3, 2], [0, -2, 1], [1, 5, -2]]\n",
        "vector đường chéo là [-1, -2, -2].\n",
        "- np.diag(v_diag) tạo ma trận đường chéo mới với các phần tử trên đường chéo là các phần tử của v_diag, các phần tử khác là 0.\n",
        "Kết quả M_diag:\n",
        "[[-1 0 0]\n",
        "[ 0 -2 0]\n",
        "[ 0 0 -2]]\n",
        "\n"
      ],
      "metadata": {
        "id": "rtIxgBX5c-Iv"
      }
    },
    {
      "cell_type": "code",
      "source": [
        "import sympy as sp\n",
        "\n",
        "x, y, z = sp.symbols('x y z')\n",
        "\n",
        "# Tạo hệ phương trình\n",
        "eq1 = sp.Eq(x**2, 9)\n",
        "eq2 = sp.Eq(x + z, 1 + y)\n",
        "eq3 = sp.Eq(6 - y, y - 1)\n",
        "eq4 = sp.Eq(2*z + 4, 8)\n",
        "eq5 = sp.Eq(2*x**2 + z, 2*x**2 + 5)\n",
        "\n",
        "# Giải hệ\n",
        "solution = sp.solve([eq1, eq2, eq3, eq4, eq5], [x, y, z])\n",
        "print(solution)"
      ],
      "metadata": {
        "colab": {
          "base_uri": "https://localhost:8080/"
        },
        "id": "uX32B5XWhEY_",
        "outputId": "ad143021-9778-41b5-c991-754f3cf560c9"
      },
      "execution_count": null,
      "outputs": [
        {
          "output_type": "stream",
          "name": "stdout",
          "text": [
            "[]\n",
            "A =\n",
            " [[ 9.   2.   4.5]\n",
            " [ 2.5  9.  20.5]]\n",
            "B =\n",
            " [[ 9.   2.   4.5]\n",
            " [ 2.5  8.  23. ]]\n",
            "Hai ma trận A và B bằng nhau: False\n"
          ]
        }
      ]
    },
    {
      "cell_type": "code",
      "source": [
        "import numpy as np\n",
        "\n",
        "A = np.array([[9, 2, 1 + 3.5], [6 - 3.5, 2*2.5 + 4, 2*9 + 2.5]])\n",
        "B = np.array([[9, 2, 1 + 3.5], [3.5 - 1, 8, 18 + 5]])\n",
        "\n",
        "print(\"A =\\n\", A)\n",
        "print(\"B =\\n\", B)\n",
        "\n",
        "print(\"Hai ma trận A và B bằng nhau:\", np.array_equal(A, B))"
      ],
      "metadata": {
        "colab": {
          "base_uri": "https://localhost:8080/"
        },
        "id": "hLJ5BlmLhqNm",
        "outputId": "a1ca3dd6-17dc-4028-9c95-ea5316413b13"
      },
      "execution_count": null,
      "outputs": [
        {
          "output_type": "stream",
          "name": "stdout",
          "text": [
            "A =\n",
            " [[ 9.   2.   4.5]\n",
            " [ 2.5  9.  20.5]]\n",
            "B =\n",
            " [[ 9.   2.   4.5]\n",
            " [ 2.5  8.  23. ]]\n",
            "Hai ma trận A và B bằng nhau: False\n"
          ]
        }
      ]
    },
    {
      "cell_type": "code",
      "source": [
        "import sympy as sp\n",
        "x = sp.Symbol('x')\n",
        "y = sp.Symbol('y')\n",
        "z = sp.Symbol('z')\n",
        "\n",
        "sp.solve([x**2-6, y-1-6, x+z-1, 2*x**2-8, z+z+4-5, y-z-8], [x, y, z])"
      ],
      "metadata": {
        "colab": {
          "base_uri": "https://localhost:8080/"
        },
        "id": "7oAsk0Y8id9Z",
        "outputId": "7de7dd87-267b-4f8f-d920-649ba52c7d1f"
      },
      "execution_count": null,
      "outputs": [
        {
          "output_type": "execute_result",
          "data": {
            "text/plain": [
              "[]"
            ]
          },
          "metadata": {},
          "execution_count": 34
        }
      ]
    },
    {
      "cell_type": "code",
      "source": [
        "x = [1,2,3]\n",
        "y = [1,2,3]\n",
        "print(all([x[i]==y[i] for i in range(len(x))]))\n",
        "\n",
        "y = [1,2,4]\n",
        "print(all([x[i]==y[i] for i in range(len(x))]))"
      ],
      "metadata": {
        "colab": {
          "base_uri": "https://localhost:8080/"
        },
        "id": "RhMNqiyFi60N",
        "outputId": "a619a004-011d-4709-faa2-4a889325b066"
      },
      "execution_count": null,
      "outputs": [
        {
          "output_type": "stream",
          "name": "stdout",
          "text": [
            "True\n",
            "False\n"
          ]
        }
      ]
    },
    {
      "cell_type": "code",
      "source": [
        "import numpy as np\n",
        "np.array_equal([1, 2], [1, 2])\n",
        "np.array_equal(np.array([1, 2]), np.array([1, 2]))"
      ],
      "metadata": {
        "colab": {
          "base_uri": "https://localhost:8080/"
        },
        "id": "B3xQrNpli-yp",
        "outputId": "136ec67f-9963-4b1f-9ada-89ed74d32b0e"
      },
      "execution_count": null,
      "outputs": [
        {
          "output_type": "execute_result",
          "data": {
            "text/plain": [
              "True"
            ]
          },
          "metadata": {},
          "execution_count": 36
        }
      ]
    },
    {
      "cell_type": "code",
      "source": [
        "# Bài 3.2\n",
        "import numpy as np\n",
        "A = np.reshape(np.arange(36.0), (6,6))\n",
        "print(A)\n",
        "\n",
        "I6 = np.identity(6)\n",
        "print(I6)\n",
        "\n",
        "print(A.size)\n",
        "print(np.matrix.diagonal(A))\n",
        "\n",
        "A = A + I6\n",
        "print(A)"
      ],
      "metadata": {
        "colab": {
          "base_uri": "https://localhost:8080/"
        },
        "id": "vQwFcgTEjO7L",
        "outputId": "22933663-0b02-4476-924b-e58678e315ac"
      },
      "execution_count": null,
      "outputs": [
        {
          "output_type": "stream",
          "name": "stdout",
          "text": [
            "[[ 0.  1.  2.  3.  4.  5.]\n",
            " [ 6.  7.  8.  9. 10. 11.]\n",
            " [12. 13. 14. 15. 16. 17.]\n",
            " [18. 19. 20. 21. 22. 23.]\n",
            " [24. 25. 26. 27. 28. 29.]\n",
            " [30. 31. 32. 33. 34. 35.]]\n",
            "[[1. 0. 0. 0. 0. 0.]\n",
            " [0. 1. 0. 0. 0. 0.]\n",
            " [0. 0. 1. 0. 0. 0.]\n",
            " [0. 0. 0. 1. 0. 0.]\n",
            " [0. 0. 0. 0. 1. 0.]\n",
            " [0. 0. 0. 0. 0. 1.]]\n",
            "36\n",
            "[ 0.  7. 14. 21. 28. 35.]\n",
            "[[ 1.  1.  2.  3.  4.  5.]\n",
            " [ 6.  8.  8.  9. 10. 11.]\n",
            " [12. 13. 15. 15. 16. 17.]\n",
            " [18. 19. 20. 22. 22. 23.]\n",
            " [24. 25. 26. 27. 29. 29.]\n",
            " [30. 31. 32. 33. 34. 36.]]\n"
          ]
        }
      ]
    },
    {
      "cell_type": "code",
      "source": [
        "vecB = np.array([1., 2., 3., 4., 5., 6.])\n",
        "C = A.dot(vecB)\n",
        "print(C)"
      ],
      "metadata": {
        "colab": {
          "base_uri": "https://localhost:8080/"
        },
        "id": "DZDh8ymJjyId",
        "outputId": "c9a666cf-ade7-439e-d0ba-4a138e9710ef"
      },
      "execution_count": null,
      "outputs": [
        {
          "output_type": "stream",
          "name": "stdout",
          "text": [
            "[ 71. 198. 325. 452. 579. 706.]\n"
          ]
        }
      ]
    },
    {
      "cell_type": "code",
      "source": [
        "D = np.array([[1., 2., 3., 4., 5., 6.], [1., 0., 0., 1., 0., 0.]])\n",
        "print(D)\n",
        "\n",
        "E = A.dot(D.T)\n",
        "print(E)"
      ],
      "metadata": {
        "colab": {
          "base_uri": "https://localhost:8080/"
        },
        "id": "Tuy-T68tkUnW",
        "outputId": "3b6d6c59-166d-4139-a9a1-2c08cb608270"
      },
      "execution_count": null,
      "outputs": [
        {
          "output_type": "stream",
          "name": "stdout",
          "text": [
            "[[1. 2. 3. 4. 5. 6.]\n",
            " [1. 0. 0. 1. 0. 0.]]\n",
            "[[ 71.   4.]\n",
            " [198.  15.]\n",
            " [325.  27.]\n",
            " [452.  40.]\n",
            " [579.  51.]\n",
            " [706.  63.]]\n"
          ]
        }
      ]
    },
    {
      "cell_type": "code",
      "source": [
        "F = np.array([[1., 1.], [2., 0.], [3., 1.], [4., 0.], [5., 1.], [6., 0.]])\n",
        "print(F)\n",
        "\n",
        "G = A.dot(F)\n",
        "print(G)\n",
        "print(np.linalg.inv(A))"
      ],
      "metadata": {
        "colab": {
          "base_uri": "https://localhost:8080/"
        },
        "id": "az5byZd2kYzD",
        "outputId": "f720900d-caf4-4fe6-a05c-6584938e97b2"
      },
      "execution_count": null,
      "outputs": [
        {
          "output_type": "stream",
          "name": "stdout",
          "text": [
            "[[1. 1.]\n",
            " [2. 0.]\n",
            " [3. 1.]\n",
            " [4. 0.]\n",
            " [5. 1.]\n",
            " [6. 0.]]\n",
            "[[ 71.   7.]\n",
            " [198.  24.]\n",
            " [325.  43.]\n",
            " [452.  60.]\n",
            " [579.  79.]\n",
            " [706.  96.]]\n",
            "[[ 0.37022901 -0.45610687 -0.28244275 -0.10877863  0.0648855   0.23854962]\n",
            " [-0.44656489  0.65839695 -0.23664122 -0.13167939 -0.02671756  0.07824427]\n",
            " [-0.26335878 -0.22709924  0.80916031 -0.15458015 -0.11832061 -0.08206107]\n",
            " [-0.08015267 -0.11259542 -0.14503817  0.82251908 -0.20992366 -0.24236641]\n",
            " [ 0.10305344  0.0019084  -0.09923664 -0.20038168  0.69847328 -0.40267176]\n",
            " [ 0.28625954  0.11641221 -0.05343511 -0.22328244 -0.39312977  0.4370229 ]]\n"
          ]
        }
      ]
    },
    {
      "cell_type": "code",
      "source": [
        "# Bài 4\n",
        "import numpy as np\n",
        "A = np.array([[1, 1], [1, 0]])\n",
        "b = np.array([1, 0])\n",
        "n = 10\n",
        "\n",
        "print(\"Các số Fibonacci đầu tiên:\")\n",
        "\n",
        "for i in range(n):\n",
        "    b = A.dot(b)\n",
        "    print(f\"F{i+1} =\", b[0])\n",
        "\n"
      ],
      "metadata": {
        "id": "GoUdOYdBkzms",
        "colab": {
          "base_uri": "https://localhost:8080/"
        },
        "outputId": "2baea50f-1349-4297-a82e-f0cab2541fa3"
      },
      "execution_count": 1,
      "outputs": [
        {
          "output_type": "stream",
          "name": "stdout",
          "text": [
            "Các số Fibonacci đầu tiên:\n",
            "F1 = 1\n",
            "F2 = 2\n",
            "F3 = 3\n",
            "F4 = 5\n",
            "F5 = 8\n",
            "F6 = 13\n",
            "F7 = 21\n",
            "F8 = 34\n",
            "F9 = 55\n",
            "F10 = 89\n"
          ]
        }
      ]
    },
    {
      "cell_type": "code",
      "source": [
        "# Bài 5.2\n",
        "from sympy import symbols, Eq, solve\n",
        "\n",
        "x1 = symbols('x1')\n",
        "x2 = symbols('x2')\n",
        "x3 = symbols('x3')\n",
        "x4 = symbols('x4')\n",
        "p1 = Eq(x1 + x2 + x3 + x4, 610)\n",
        "p2 = Eq(400 + x2 + x3, 640)\n",
        "p3 = Eq(400 + x3 + x4, 520)\n",
        "nghiem = solve([p1, p2, p3], (x1, x2, x3, x4))\n",
        "print(\"Nghiệm hệ phương trình là:\")\n",
        "print(nghiem)\n"
      ],
      "metadata": {
        "colab": {
          "base_uri": "https://localhost:8080/"
        },
        "id": "BxGrI2ZKLMYP",
        "outputId": "1cadb92e-c9fc-4a42-fafb-dc9404cb07fa"
      },
      "execution_count": 5,
      "outputs": [
        {
          "output_type": "stream",
          "name": "stdout",
          "text": [
            "Nghiệm hệ phương trình là:\n",
            "{x1: 370 - x4, x2: x4 + 120, x3: 120 - x4}\n"
          ]
        }
      ]
    },
    {
      "cell_type": "markdown",
      "source": [
        "**Bài Tập Về Nhà**\n"
      ],
      "metadata": {
        "id": "qxKo3KR9L2Xb"
      }
    },
    {
      "cell_type": "code",
      "source": [
        "# Câu 1\n",
        "import numpy as np\n",
        "\n",
        "A1 = np.array([[1, -2], [2, 3]])\n",
        "b1 = np.array([2, 6])\n",
        "x1 = np.linalg.solve(A1, b1)\n",
        "print(\"Problem 1:\", x1)\n",
        "A2 = np.array([[1, -2, 1], [2, -1, 3], [1, 1, 6]])\n",
        "b2 = np.array([2, 3, 6])\n",
        "x2 = np.linalg.solve(A2, b2)\n",
        "print(\"Problem 2:\", x2)\n",
        "A3 = np.array([[1, 1, 1], [4, 2, 1], [9, 3, 1]])\n",
        "b3 = np.array([4, 3, 4])\n",
        "x3 = np.linalg.solve(A3, b3)\n",
        "print(\"Problem 3 (a, b, c):\", x3)\n",
        "A4 = np.array([[1, 1, 1], [2, 1, 0], [-2, -2, 1]])\n",
        "b4 = np.array([1, 2, 0])\n",
        "x4 = np.linalg.solve(A4, b4)\n",
        "print(\"Problem 4 (a, b, c):\", x4)\n"
      ],
      "metadata": {
        "colab": {
          "base_uri": "https://localhost:8080/"
        },
        "id": "9YVc08TELndc",
        "outputId": "22f78f8e-2f85-4b62-ff5a-54ba25b19e6b"
      },
      "execution_count": 4,
      "outputs": [
        {
          "output_type": "stream",
          "name": "stdout",
          "text": [
            "Problem 1: [2.57142857 0.28571429]\n",
            "Problem 2: [-0.75 -0.75  1.25]\n",
            "Problem 3 (a, b, c): [ 1. -4.  7.]\n",
            "Problem 4 (a, b, c): [ 1.66666667 -1.33333333  0.66666667]\n"
          ]
        }
      ]
    },
    {
      "cell_type": "code",
      "source": [
        "# Câu 2\n",
        "from sympy import symbols, Eq, solve\n",
        "\n",
        "x, y = symbols('x y')\n",
        "eq1 = Eq(x - 2*y, 2)\n",
        "eq2 = Eq(2*x + 3*y, 6)\n",
        "sol1 = solve((eq1, eq2), (x, y))\n",
        "print(\"Sympy - Problem 1:\", sol1)\n",
        "\n",
        "x, y, z = symbols('x y z')\n",
        "eq1 = Eq(x - 2*y + z, 2)\n",
        "eq2 = Eq(2*x - y + 3*z, 3)\n",
        "eq3 = Eq(x + y + 6*z, 6)\n",
        "sol2 = solve((eq1, eq2, eq3), (x, y, z))\n",
        "print(\"Sympy - Problem 2:\", sol2)\n",
        "\n",
        "a, b, c = symbols('a b c')\n",
        "eq1 = Eq(a + b + c, 4)\n",
        "eq2 = Eq(4*a + 2*b + c, 3)\n",
        "eq3 = Eq(9*a + 3*b + c, 4)\n",
        "sol3 = solve((eq1, eq2, eq3), (a, b, c))\n",
        "print(\"Sympy - Problem 3:\", sol3)\n",
        "\n",
        "a, b, c = symbols('a b c')\n",
        "eq1 = Eq(a + b + c, 1)\n",
        "eq2 = Eq(2*a + b, 2)\n",
        "eq3 = Eq(-2*a - 2*b + c, 0)\n",
        "sol4 = solve((eq1, eq2, eq3), (a, b, c))\n",
        "print(\"Sympy - Problem 4:\", sol4)\n"
      ],
      "metadata": {
        "colab": {
          "base_uri": "https://localhost:8080/"
        },
        "id": "6RvggrtVMB08",
        "outputId": "9602ee69-60e8-4a1c-c299-caf232d202b3"
      },
      "execution_count": 2,
      "outputs": [
        {
          "output_type": "stream",
          "name": "stdout",
          "text": [
            "Sympy - Problem 1: {x: 18/7, y: 2/7}\n",
            "Sympy - Problem 2: {x: -3/4, y: -3/4, z: 5/4}\n",
            "Sympy - Problem 3: {a: 1, b: -4, c: 7}\n",
            "Sympy - Problem 4: {a: 5/3, b: -4/3, c: 2/3}\n"
          ]
        }
      ]
    },
    {
      "cell_type": "code",
      "source": [
        "# Câu 3\n",
        "import numpy as np\n",
        "\n",
        "def fibonacci_matrix_power(k):\n",
        "    F = np.array([[1, 1], [1, 0]])\n",
        "    return np.linalg.matrix_power(F, k)\n",
        "k = 10\n",
        "Fk = fibonacci_matrix_power(k)\n",
        "print(f\"F^{k} =\\n\", Fk)\n",
        "\n",
        "def fib(n):\n",
        "    if n == 0: return 0\n",
        "    elif n == 1: return 1\n",
        "    else:\n",
        "        a, b = 0, 1\n",
        "        for _ in range(2, n + 1):\n",
        "            a, b = b, a + b\n",
        "        return b\n",
        "\n",
        "print(\"Kiểm tra:\")\n",
        "print(\"Fib(k+1) =\", fib(k+1))\n",
        "print(\"Fib(k)   =\", fib(k))\n",
        "print(\"Fib(k-1) =\", fib(k-1))\n",
        "print(\"F^k =\", Fk)\n"
      ],
      "metadata": {
        "colab": {
          "base_uri": "https://localhost:8080/"
        },
        "id": "gZIbdR5NMQyg",
        "outputId": "08e65286-0b6a-478e-9e07-defd43abe748"
      },
      "execution_count": 3,
      "outputs": [
        {
          "output_type": "stream",
          "name": "stdout",
          "text": [
            "F^10 =\n",
            " [[89 55]\n",
            " [55 34]]\n",
            "Kiểm tra:\n",
            "Fib(k+1) = 89\n",
            "Fib(k)   = 55\n",
            "Fib(k-1) = 34\n",
            "F^k = [[89 55]\n",
            " [55 34]]\n"
          ]
        }
      ]
    }
  ]
}