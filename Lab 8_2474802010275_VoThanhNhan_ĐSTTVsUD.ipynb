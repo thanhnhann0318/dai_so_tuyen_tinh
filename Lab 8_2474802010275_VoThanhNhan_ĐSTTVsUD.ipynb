{
  "nbformat": 4,
  "nbformat_minor": 0,
  "metadata": {
    "colab": {
      "provenance": []
    },
    "kernelspec": {
      "name": "python3",
      "display_name": "Python 3"
    },
    "language_info": {
      "name": "python"
    }
  },
  "cells": [
    {
      "cell_type": "code",
      "execution_count": 1,
      "metadata": {
        "colab": {
          "base_uri": "https://localhost:8080/"
        },
        "id": "UJzqCotrhewD",
        "outputId": "c557370d-d8f1-4d21-806e-f4e18815c5d3"
      },
      "outputs": [
        {
          "output_type": "stream",
          "name": "stdout",
          "text": [
            "Kết quả câu a (x1): [ 18 -11   9  -8]\n",
            "Kết quả câu b (x2): [ 9.  -5.5  4.5 -4. ]\n",
            "x1 và x2 có bằng nhau không? False\n"
          ]
        }
      ],
      "source": [
        "import numpy as np\n",
        "\n",
        "# Khai báo các vector\n",
        "u = np.array([2, -1, 5, 0])\n",
        "v = np.array([4, 3, 1, -1])\n",
        "w = np.array([-6, 2, 0, 3])\n",
        "\n",
        "# Câu a: x = 2u - (v + 3w)\n",
        "x1 = 2*u - (v + 3*w)\n",
        "print(\"Kết quả câu a (x1):\", x1)\n",
        "\n",
        "# Câu b: x = 0.5 * (2u - v - 3w)\n",
        "x2 = 0.5 * (2*u - v - 3*w)\n",
        "print(\"Kết quả câu b (x2):\", x2)\n",
        "\n",
        "# Kiểm tra xem x1 và x2 có bằng nhau không\n",
        "print(\"x1 và x2 có bằng nhau không?\", np.array_equal(x1, x2))\n"
      ]
    },
    {
      "cell_type": "code",
      "source": [
        "import numpy as np\n",
        "from numpy import linalg\n",
        "\n",
        "# Khai báo các vector\n",
        "x = np.array([-1, -2, -2])\n",
        "u = np.array([0, 1, 4])\n",
        "v = np.array([-1, 1, 2])\n",
        "w = np.array([3, 1, 2])\n",
        "\n",
        "# Lập ma trận hệ số và vector vế phải\n",
        "A = np.array([\n",
        "    [0, -1, 3],   # Hệ số theo từng tọa độ của x = a*u + b*v + c*w\n",
        "    [1, 1, 1],\n",
        "    [4, 2, 2]\n",
        "])\n",
        "B = x\n",
        "\n",
        "# Giải hệ phương trình\n",
        "X = np.linalg.solve(A, B)\n",
        "print(\"Nghiệm của hệ là (a, b, c):\", X)\n",
        "\n",
        "# In kết luận tổ hợp tuyến tính\n",
        "a, b, c = X\n",
        "print(f\"\\nVector x là tổ hợp tuyến tính:\")\n",
        "print(f\"x = {a:.0f}·u + ({b:.0f})·v + ({c:.0f})·w\")\n"
      ],
      "metadata": {
        "colab": {
          "base_uri": "https://localhost:8080/"
        },
        "id": "ZKFXJ0_RmQL_",
        "outputId": "9ee2492d-6ed0-4c03-af6b-705a41a9b12e"
      },
      "execution_count": 2,
      "outputs": [
        {
          "output_type": "stream",
          "name": "stdout",
          "text": [
            "Nghiệm của hệ là (a, b, c): [ 1. -2. -1.]\n",
            "\n",
            "Vector x là tổ hợp tuyến tính:\n",
            "x = 1·u + (-2)·v + (-1)·w\n"
          ]
        }
      ]
    },
    {
      "cell_type": "code",
      "source": [
        "import numpy as np\n",
        "from numpy import linalg as LA\n",
        "\n",
        "# Khởi tạo hai ma trận A và B không khả nghịch\n",
        "A = np.matrix([[1, 0],\n",
        "               [0, 0]])\n",
        "B = np.matrix([[0, 0],\n",
        "               [0, 1]])\n",
        "\n",
        "print(\"Ma trận A:\")\n",
        "print(A)\n",
        "print(\"\\nMa trận B:\")\n",
        "print(B)\n",
        "\n",
        "# Phương pháp 1: kiểm tra khả nghịch bằng lệnh inv()\n",
        "print(\"\\n=== Phương pháp inv() ===\")\n",
        "for M, name in [(A, \"A\"), (B, \"B\"), (A + B, \"A + B\")]:\n",
        "    try:\n",
        "        invM = LA.inv(M)\n",
        "        print(f\"Ma trận {name} khả nghịch, inv({name}) =\\n{invM}\")\n",
        "    except Exception as e:\n",
        "        print(f\"Ma trận {name} không khả nghịch, lỗi:\", e)\n",
        "\n",
        "# Phương pháp 2: kiểm tra bằng tính định thức\n",
        "print(\"\\n=== Phương pháp det() ===\")\n",
        "for M, name in [(A, \"A\"), (B, \"B\"), (A + B, \"A + B\")]:\n",
        "    detM = LA.det(M)\n",
        "    print(f\"det({name}) = {detM:.0f}\")\n"
      ],
      "metadata": {
        "colab": {
          "base_uri": "https://localhost:8080/"
        },
        "id": "DawpA3wvmsBK",
        "outputId": "01b1e2d4-eca0-4824-9fa1-4314c557f19a"
      },
      "execution_count": 3,
      "outputs": [
        {
          "output_type": "stream",
          "name": "stdout",
          "text": [
            "Ma trận A:\n",
            "[[1 0]\n",
            " [0 0]]\n",
            "\n",
            "Ma trận B:\n",
            "[[0 0]\n",
            " [0 1]]\n",
            "\n",
            "=== Phương pháp inv() ===\n",
            "Ma trận A không khả nghịch, lỗi: Singular matrix\n",
            "Ma trận B không khả nghịch, lỗi: Singular matrix\n",
            "Ma trận A + B khả nghịch, inv(A + B) =\n",
            "[[1. 0.]\n",
            " [0. 1.]]\n",
            "\n",
            "=== Phương pháp det() ===\n",
            "det(A) = 0\n",
            "det(B) = 0\n",
            "det(A + B) = 1\n"
          ]
        }
      ]
    },
    {
      "cell_type": "code",
      "source": [
        "import sympy as sp\n",
        "\n",
        "# Khai báo biến hình thức\n",
        "x, y = sp.symbols('x y')\n",
        "x1, y1 = sp.symbols('x1 y1')\n",
        "x2, y2 = sp.symbols('x2 y2')\n",
        "c = sp.symbols('c')\n",
        "\n",
        "# Khai báo các ma trận đối xứng cấp 2\n",
        "A = sp.Matrix([[x, y], [y, x]])\n",
        "A1 = sp.Matrix([[x1, y1], [y1, x1]])\n",
        "A2 = sp.Matrix([[x2, y2], [y2, x2]])\n",
        "\n",
        "# 1. Kiểm tra chuyển vị của A1\n",
        "print(\"A1.T =\")\n",
        "print(A1.T)\n",
        "\n",
        "# 2. Kiểm tra chuyển vị của A1 + A2\n",
        "print(\"\\n(A1 + A2).T =\")\n",
        "print((A1 + A2).T)\n",
        "\n",
        "# 3. Kiểm tra tính đối xứng: (A1 + A2)^T == A1 + A2\n",
        "print(\"\\n(A1 + A2).T == A1 + A2 ?\")\n",
        "print(((A1 + A2).T).equals(A1 + A2))  # Kết quả là True\n",
        "\n",
        "# 4. Kiểm tra nhân với vô hướng\n",
        "print(\"\\nc * A =\")\n",
        "print(c * A)\n",
        "\n",
        "# 5. Kiểm tra tính đối xứng: (c*A)^T == c*A\n",
        "print(\"\\n(c * A).T == c * A ?\")\n",
        "print(((c * A).T).equals(c * A))  # Kết quả là True\n"
      ],
      "metadata": {
        "colab": {
          "base_uri": "https://localhost:8080/"
        },
        "id": "t_eEwU6xnC2j",
        "outputId": "9ce50c42-8ccb-45ef-c9af-00802f9ad547"
      },
      "execution_count": 4,
      "outputs": [
        {
          "output_type": "stream",
          "name": "stdout",
          "text": [
            "A1.T =\n",
            "Matrix([[x1, y1], [y1, x1]])\n",
            "\n",
            "(A1 + A2).T =\n",
            "Matrix([[x1 + x2, y1 + y2], [y1 + y2, x1 + x2]])\n",
            "\n",
            "(A1 + A2).T == A1 + A2 ?\n",
            "True\n",
            "\n",
            "c * A =\n",
            "Matrix([[c*x, c*y], [c*y, c*x]])\n",
            "\n",
            "(c * A).T == c * A ?\n",
            "True\n"
          ]
        }
      ]
    },
    {
      "cell_type": "code",
      "source": [
        "import numpy as np\n",
        "from numpy.linalg import solve, LinAlgError\n",
        "\n",
        "# Khai báo các vector cơ sở\n",
        "v1 = np.array([1, 2, 3])\n",
        "v2 = np.array([0, 1, 2])\n",
        "v3 = np.array([-1, 0, 1])\n",
        "\n",
        "# Tạo ma trận hệ số\n",
        "A = np.column_stack((v1, v2, v3))  # 3x3 matrix\n",
        "\n",
        "# Danh sách các vector cần kiểm tra\n",
        "vectors = {\n",
        "    \"x1 = (1, 1, 1)\": np.array([1, 1, 1]),\n",
        "    \"x2 = (1, -2, 2)\": np.array([1, -2, 2])\n",
        "}\n",
        "\n",
        "# Kiểm tra từng vector có là tổ hợp tuyến tính không\n",
        "for name, x in vectors.items():\n",
        "    print(f\"=== Kiểm tra vector {name} ===\")\n",
        "    try:\n",
        "        coef = solve(A, x)\n",
        "        print(\"✅ Là tổ hợp tuyến tính của v1, v2, v3\")\n",
        "        print(\"→ Hệ số tương ứng là:\", coef)\n",
        "    except LinAlgError:\n",
        "        print(\"❌ Không phải tổ hợp tuyến tính (hệ vô nghiệm hoặc suy biến)\")\n",
        "    print()\n"
      ],
      "metadata": {
        "colab": {
          "base_uri": "https://localhost:8080/"
        },
        "id": "ukDaXF8vnTGr",
        "outputId": "0db54a79-4c7b-4715-ce14-2ceb1b258bc4"
      },
      "execution_count": 5,
      "outputs": [
        {
          "output_type": "stream",
          "name": "stdout",
          "text": [
            "=== Kiểm tra vector x1 = (1, 1, 1) ===\n",
            "✅ Là tổ hợp tuyến tính của v1, v2, v3\n",
            "→ Hệ số tương ứng là: [ 5.00000000e-01 -1.66533454e-16 -5.00000000e-01]\n",
            "\n",
            "=== Kiểm tra vector x2 = (1, -2, 2) ===\n",
            "✅ Là tổ hợp tuyến tính của v1, v2, v3\n",
            "→ Hệ số tương ứng là: [ 3.15251974e+16 -6.30503948e+16  3.15251974e+16]\n",
            "\n"
          ]
        }
      ]
    },
    {
      "cell_type": "code",
      "source": [
        "import sympy as sp\n",
        "\n",
        "# Khai báo 3 ẩn số\n",
        "c1, c2, c3 = sp.symbols('c1 c2 c3')\n",
        "\n",
        "# Vector v1 = (1, 2, 3), v2 = (0, 1, 2), v3 = (-2, 0, 1)\n",
        "# Tổng tuyến tính: c1*v1 + c2*v2 + c3*v3 = (0, 0, 0)\n",
        "eq1 = c1 + 0*c2 + (-2)*c3       # thành phần x\n",
        "eq2 = 2*c1 + 1*c2 + 0*c3        # thành phần y\n",
        "eq3 = 3*c1 + 2*c2 + 1*c3        # thành phần z\n",
        "\n",
        "# Giải hệ phương trình\n",
        "solution = sp.solve([eq1, eq2, eq3], (c1, c2, c3))\n",
        "print(\"Nghiệm của hệ là:\", solution)\n",
        "\n",
        "# Kết luận\n",
        "if all(val == 0 for val in solution.values()):\n",
        "    print(\"✅ Các vector là độc lập tuyến tính.\")\n",
        "else:\n",
        "    print(\"❌ Các vector phụ thuộc tuyến tính.\")\n"
      ],
      "metadata": {
        "colab": {
          "base_uri": "https://localhost:8080/"
        },
        "id": "6Z0mnVp7oJUh",
        "outputId": "c77fa177-d124-49f2-9426-4ad2a7a85ef1"
      },
      "execution_count": 6,
      "outputs": [
        {
          "output_type": "stream",
          "name": "stdout",
          "text": [
            "Nghiệm của hệ là: {c1: 0, c2: 0, c3: 0}\n",
            "✅ Các vector là độc lập tuyến tính.\n"
          ]
        }
      ]
    },
    {
      "cell_type": "code",
      "source": [
        "import sympy as sp\n",
        "\n",
        "# Khai báo biến\n",
        "c1, c2 = sp.symbols('c1 c2')\n",
        "u1, u2 = sp.symbols('u1 u2')\n",
        "\n",
        "# Kiểm tra tính sinh (mọi vector (u1, u2) có thể biểu diễn qua v1, v2)\n",
        "hpt_sinh = [c1 + c2 - u1, c1 - c2 - u2]\n",
        "nghiem_tong_quat = sp.solve(hpt_sinh, (c1, c2))\n",
        "print(\"💡 Hệ phương trình tổng quát (tính sinh):\")\n",
        "print(\"Nghiệm biểu diễn (c1, c2) theo (u1, u2):\", nghiem_tong_quat)\n",
        "\n",
        "# Kiểm tra tính độc lập tuyến tính: u1 = 0, u2 = 0\n",
        "u1_val = 0\n",
        "u2_val = 0\n",
        "hpt_doclap = [c1 + c2 - u1_val, c1 - c2 - u2_val]\n",
        "nghiem_doclap = sp.solve(hpt_doclap, (c1, c2))\n",
        "print(\"\\n✅ Kiểm tra độc lập tuyến tính với u = (0,0):\")\n",
        "print(\"Nghiệm là:\", nghiem_doclap)\n",
        "\n",
        "# Kiểm tra định thức khác 0\n",
        "from sympy import Matrix\n",
        "M = Matrix([[1, 1], [1, -1]])\n",
        "print(\"\\n📐 Định thức của ma trận cơ sở:\")\n",
        "print(\"det = \", M.det())\n"
      ],
      "metadata": {
        "colab": {
          "base_uri": "https://localhost:8080/"
        },
        "id": "HRXXDrpronLZ",
        "outputId": "264471a1-02bf-470d-bb17-492fbeea9ead"
      },
      "execution_count": 7,
      "outputs": [
        {
          "output_type": "stream",
          "name": "stdout",
          "text": [
            "💡 Hệ phương trình tổng quát (tính sinh):\n",
            "Nghiệm biểu diễn (c1, c2) theo (u1, u2): {c1: u1/2 + u2/2, c2: u1/2 - u2/2}\n",
            "\n",
            "✅ Kiểm tra độc lập tuyến tính với u = (0,0):\n",
            "Nghiệm là: {c1: 0, c2: 0}\n",
            "\n",
            "📐 Định thức của ma trận cơ sở:\n",
            "det =  -2\n"
          ]
        }
      ]
    },
    {
      "cell_type": "code",
      "source": [
        "import numpy as np\n",
        "import matplotlib.pyplot as plt\n",
        "\n",
        "# Dữ liệu chữ F gốc (2 x 10 matrix)\n",
        "P = np.array([\n",
        "    [0, 0, 3, 3, 1, 1, 2, 2, 1, 1],  # x\n",
        "    [0, 5, 5, 4, 4, 3, 3, 2, 2, 0]   # y\n",
        "])\n",
        "\n",
        "# Hàm vẽ hình\n",
        "def ve(P, title):\n",
        "    plt.figure(figsize=(5, 5))\n",
        "    plt.plot(*P, 'bo-', linewidth=2)\n",
        "    plt.title(title)\n",
        "    plt.grid(True)\n",
        "    plt.axis('equal')\n",
        "    plt.show()\n",
        "\n",
        "# Gốc\n",
        "ve(P, \"Chữ F gốc\")\n",
        "\n",
        "# a. Tịnh tiến (dx = 4, dy = 2)\n",
        "vecdelta_a = np.array([4, 2])\n",
        "P_a = (P.T + vecdelta_a).T\n",
        "ve(P_a, \"a. Tịnh tiến (dx=4, dy=2)\")\n",
        "\n",
        "# b. Tịnh tiến + Co giãn y (F=1.0, G=2.0), dx = 4, dy = -2\n",
        "vecdelta_b = np.array([4, -2])\n",
        "mat_b = np.array([[1.0, 0.0], [0.0, 2.0]])\n",
        "P_b = (P.T @ mat_b + vecdelta_b).T\n",
        "ve(P_b, \"b. Tịnh tiến + Co giãn y (G=2.0), dx=4, dy=-2\")\n",
        "\n",
        "# c. Tịnh tiến + Đối xứng theo trục y: (-x + 5, y)\n",
        "vecdelta_c = np.array([5, 0])\n",
        "mat_c = np.array([[-1.0, 0.0], [0.0, 1.0]])\n",
        "P_c = (P.T @ mat_c + vecdelta_c).T\n",
        "ve(P_c, \"c. Tịnh tiến + Đối xứng trục y (dx=5)\")\n",
        "\n",
        "# d. Tịnh tiến + Shearing theo x (L = 1.0), dx = 2, dy = 0\n",
        "vecdelta_d = np.array([2, 0])\n",
        "mat_d = np.array([[1.0, 1.0], [0.0, 1.0]])  # shear x\n",
        "P_d = (P.T @ mat_d + vecdelta_d).T\n",
        "ve(P_d, \"d. Shear theo x (L=1.0), dx=2\")\n",
        "\n",
        "# Phụ: Shearing theo y (M = 1.0), dx = 0, dy = 2\n",
        "vecdelta_dy = np.array([0, 2])\n",
        "mat_dy = np.array([[1.0, 0.0], [1.0, 1.0]])  # shear y\n",
        "P_dy = (P.T @ mat_dy + vecdelta_dy).T\n",
        "ve(P_dy, \"Phụ: Shear theo y (M=1.0), dy=2\")\n",
        "\n",
        "# Đối xứng qua y = 0: (-x, y)\n",
        "mat_flip_y = np.array([[-1.0, 0.0], [0.0, 1.0]])\n",
        "P_flip_y = (P.T @ mat_flip_y).T\n",
        "ve(P_flip_y, \"Đối xứng qua trục y = 0\")\n",
        "\n",
        "# Đối xứng qua đường y = x\n",
        "mat_flip_diag = np.array([[0.0, 1.0], [1.0, 0.0]])\n",
        "P_flip_diag = (P.T @ mat_flip_diag).T\n",
        "ve(P_flip_diag, \"Đối xứng qua đường y = x\")\n"
      ],
      "metadata": {
        "colab": {
          "base_uri": "https://localhost:8080/",
          "height": 1000
        },
        "id": "rWN2HAHrpBTh",
        "outputId": "864d8c6d-cb63-4f87-8ac5-2bd061eef4a1"
      },
      "execution_count": 8,
      "outputs": [
        {
          "output_type": "display_data",
          "data": {
            "text/plain": [
              "<Figure size 500x500 with 1 Axes>"
            ],
            "image/png": "[encoded data removed]"
          },
          "metadata": {}
        },
        {
          "output_type": "display_data",
          "data": {
            "text/plain": [
              "<Figure size 500x500 with 1 Axes>"
            ],
            "image/png": "[encoded data removed]"
          },
          "metadata": {}
        },
        {
          "output_type": "display_data",
          "data": {
            "text/plain": [
              "<Figure size 500x500 with 1 Axes>"
            ],
            "image/png": "[encoded data removed]"
          },
          "metadata": {}
        },
        {
          "output_type": "display_data",
          "data": {
            "text/plain": [
              "<Figure size 500x500 with 1 Axes>"
            ],
            "image/png": "[encoded data removed]"
          },
          "metadata": {}
        },
        {
          "output_type": "display_data",
          "data": {
            "text/plain": [
              "<Figure size 500x500 with 1 Axes>"
            ],
            "image/png": "[encoded data removed]"
          },
          "metadata": {}
        },
        {
          "output_type": "display_data",
          "data": {
            "text/plain": [
              "<Figure size 500x500 with 1 Axes>"
            ],
            "image/png": "[encoded data removed]"
          },
          "metadata": {}
        },
        {
          "output_type": "display_data",
          "data": {
            "text/plain": [
              "<Figure size 500x500 with 1 Axes>"
            ],
            "image/png": "[encoded data removed]"
          },
          "metadata": {}
        },
        {
          "output_type": "display_data",
          "data": {
            "text/plain": [
              "<Figure size 500x500 with 1 Axes>"
            ],
            "image/png": "[encoded data removed]"
          },
          "metadata": {}
        }
      ]
    },
    {
      "cell_type": "code",
      "source": [
        "import sympy as sp\n",
        "import numpy as np\n",
        "from sympy import lambdify\n",
        "\n",
        "# ===============================\n",
        "# 3.1 KIỂM TRA ÁNH XẠ TUYẾN TÍNH\n",
        "# ===============================\n",
        "\n",
        "# Khai báo biến\n",
        "x1, x2, x3 = sp.symbols('x1 x2 x3')\n",
        "a, b, c = sp.symbols('a b c')       # vector X = (a, b, c)\n",
        "d, e, f = sp.symbols('d e f')       # vector Y = (d, e, f)\n",
        "q = sp.symbols('q')                 # hệ số vô hướng\n",
        "\n",
        "# Thành phần 1 của ánh xạ: f1(x1, x2, x3) = x1 - x2 + x3\n",
        "f1_expr = x1 - x2 + x3\n",
        "f1 = lambdify([x1, x2, x3], f1_expr, 'sympy')\n",
        "\n",
        "print(\"=== Kiểm tra tuyến tính với f1(x) = x1 - x2 + x3 ===\")\n",
        "print(\"f1(x) + f1(y) == f1(x + y)?\", (f1(a, b, c) + f1(d, e, f)).equals(f1(a + d, b + e, c + f)))\n",
        "print(\"q*f1(x) + f1(y) == f1(qx + y)?\", (q * f1(a, b, c) + f1(d, e, f)).equals(f1(q * a + d, q * b + e, q * c + f).expand()))\n",
        "\n",
        "# Thành phần 2 của ánh xạ: f2(x1, x2, x3) = 2x1 + 3x2\n",
        "f2_expr = 2 * x1 + 3 * x2\n",
        "f2 = lambdify([x1, x2, x3], f2_expr, 'sympy')\n",
        "\n",
        "print(\"\\n=== Kiểm tra tuyến tính với f2(x) = 2x1 + 3x2 ===\")\n",
        "print(\"f2(x) + f2(y) == f2(x + y)?\", (f2(a, b, c) + f2(d, e, f)).equals(f2(a + d, b + e, c + f)))\n",
        "print(\"q*f2(x) + f2(y) == f2(qx + y)?\", (q * f2(a, b, c) + f2(d, e, f)).equals(f2(q * a + d, q * b + e, q * c + f).expand()))\n",
        "\n",
        "\n",
        "# ===============================================\n",
        "# 3.2 TÌM TỔ HỢP TUYẾN TÍNH VÀ TÍNH ẢNH ÁNH XẠ T\n",
        "# ===============================================\n",
        "\n",
        "# Cơ sở v1 = (1,2), v2 = (3,5)\n",
        "A = np.array([[1, 3], [2, 5]])\n",
        "v_target = np.array([4, 5])  # vector cần biểu diễn theo v1 và v2\n",
        "\n",
        "# Giải hệ để tìm tổ hợp tuyến tính: v_target = a*v1 + b*v2\n",
        "coeffs = np.linalg.solve(A, v_target)\n",
        "a, b = coeffs\n",
        "print(f\"\\n=== Tìm tổ hợp tuyến tính: ===\")\n",
        "print(f\"Hệ số a = {a}, b = {b}\")\n",
        "\n",
        "# Ánh xạ của cơ sở theo hàm T\n",
        "Tv1 = np.array([1, 1, 2])\n",
        "Tv2 = np.array([4, 2, 1])\n",
        "\n",
        "# Tính ảnh của vector v_target: T(v_target) = a * T(v1) + b * T(v2)\n",
        "Tv_target = a * Tv1 + b * Tv2\n",
        "print(\"\\n=== Ảnh của vector (4, 5) theo ánh xạ tuyến tính T là: ===\")\n",
        "print(\"T(v_target) =\", Tv_target)\n"
      ],
      "metadata": {
        "colab": {
          "base_uri": "https://localhost:8080/"
        },
        "id": "X-1qSyzpprmQ",
        "outputId": "5b5e769b-e1ba-428d-e9b2-1bac851c1aa9"
      },
      "execution_count": 9,
      "outputs": [
        {
          "output_type": "stream",
          "name": "stdout",
          "text": [
            "=== Kiểm tra tuyến tính với f1(x) = x1 - x2 + x3 ===\n",
            "f1(x) + f1(y) == f1(x + y)? True\n",
            "q*f1(x) + f1(y) == f1(qx + y)? True\n",
            "\n",
            "=== Kiểm tra tuyến tính với f2(x) = 2x1 + 3x2 ===\n",
            "f2(x) + f2(y) == f2(x + y)? True\n",
            "q*f2(x) + f2(y) == f2(qx + y)? True\n",
            "\n",
            "=== Tìm tổ hợp tuyến tính: ===\n",
            "Hệ số a = -5.0, b = 3.0\n",
            "\n",
            "=== Ảnh của vector (4, 5) theo ánh xạ tuyến tính T là: ===\n",
            "T(v_target) = [ 7.  1. -7.]\n"
          ]
        }
      ]
    },
    {
      "cell_type": "code",
      "source": [
        "import sympy as sp\n",
        "\n",
        "# ===== Bước 1: Khai báo các biến =====\n",
        "a, b = sp.symbols('a b')       # Hệ số tổ hợp tuyến tính\n",
        "x, y = sp.symbols('x y')       # Vector đầu vào bất kỳ (x, y)\n",
        "\n",
        "# ===== Bước 2: Giải hệ tổ hợp tuyến tính =====\n",
        "# (x, y) = a*(1,2) + b*(3,5)\n",
        "# Hệ phương trình:\n",
        "# a + 3b = x\n",
        "# 2a + 5b = y\n",
        "he_nghiem = sp.solve([a + 3*b - x, 2*a + 5*b - y], (a, b))\n",
        "\n",
        "a_expr = he_nghiem[a]\n",
        "b_expr = he_nghiem[b]\n",
        "\n",
        "print(\"=== Hệ số tổ hợp tuyến tính ===\")\n",
        "print(\"a(x, y) =\", a_expr)\n",
        "print(\"b(x, y) =\", b_expr)\n",
        "\n",
        "# ===== Bước 3: Tính ánh xạ T(x, y) = a*T(v1) + b*T(v2) =====\n",
        "# Ảnh của cơ sở:\n",
        "T_v1 = [1, 1, 2]\n",
        "T_v2 = [4, 2, 1]\n",
        "\n",
        "# Tính tổ hợp tuyến tính:\n",
        "T_vec = a_expr * sp.Matrix(T_v1) + b_expr * sp.Matrix(T_v2)\n",
        "\n",
        "# ===== Bước 4: Hiển thị biểu thức T(x, y) =====\n",
        "print(\"\\n=== Ánh xạ tuyến tính T(x, y) ===\")\n",
        "sp.pprint(T_vec)\n",
        "\n",
        "# Tách từng thành phần:\n",
        "T1 = T_vec[0].expand()\n",
        "T2 = T_vec[1].expand()\n",
        "T3 = T_vec[2].expand()\n",
        "\n",
        "print(\"\\n=== Thành phần của T(x, y) ===\")\n",
        "print(f\"T1(x, y) = {T1}\")\n",
        "print(f\"T2(x, y) = {T2}\")\n",
        "print(f\"T3(x, y) = {T3}\")\n",
        "\n",
        "# ===== Bước 5: Định nghĩa hàm ánh xạ Python =====\n",
        "def T_numeric(x_val, y_val):\n",
        "    T1_val = T1.subs({x: x_val, y: y_val})\n",
        "    T2_val = T2.subs({x: x_val, y: y_val})\n",
        "    T3_val = T3.subs({x: x_val, y: y_val})\n",
        "    return (T1_val, T2_val, T3_val)\n",
        "\n",
        "# ===== Bước 6: Kiểm tra hàm với giá trị cụ thể =====\n",
        "print(\"\\n=== Kiểm tra với T(4, 5) ===\")\n",
        "print(\"T(4, 5) =\", T_numeric(4, 5))\n",
        "\n",
        "print(\"\\n=== Kiểm tra với T(1, 2) ===\")\n",
        "print(\"T(1, 2) =\", T_numeric(1, 2))\n"
      ],
      "metadata": {
        "colab": {
          "base_uri": "https://localhost:8080/"
        },
        "id": "JrXuWCr8rA13",
        "outputId": "9684fb25-f331-49b1-fb79-b4278a5728ba"
      },
      "execution_count": 11,
      "outputs": [
        {
          "output_type": "stream",
          "name": "stdout",
          "text": [
            "=== Hệ số tổ hợp tuyến tính ===\n",
            "a(x, y) = -5*x + 3*y\n",
            "b(x, y) = 2*x - y\n",
            "\n",
            "=== Ánh xạ tuyến tính T(x, y) ===\n",
            "⎡ 3⋅x - y  ⎤\n",
            "⎢          ⎥\n",
            "⎢  -x + y  ⎥\n",
            "⎢          ⎥\n",
            "⎣-8⋅x + 5⋅y⎦\n",
            "\n",
            "=== Thành phần của T(x, y) ===\n",
            "T1(x, y) = 3*x - y\n",
            "T2(x, y) = -x + y\n",
            "T3(x, y) = -8*x + 5*y\n",
            "\n",
            "=== Kiểm tra với T(4, 5) ===\n",
            "T(4, 5) = (7, 1, -7)\n",
            "\n",
            "=== Kiểm tra với T(1, 2) ===\n",
            "T(1, 2) = (1, 1, 2)\n"
          ]
        }
      ]
    },
    {
      "cell_type": "code",
      "source": [
        "import sympy as sp\n",
        "\n",
        "# ===== Bước 1: Khai báo biến =====\n",
        "x1, x2, x3 = sp.symbols('x1 x2 x3')\n",
        "\n",
        "# ===== Bước 2: Định nghĩa hệ phương trình f(x) = 0 để tìm Ker(f) =====\n",
        "he_ker = [\n",
        "    x1 + x2 - x3,\n",
        "    2*x1 + 3*x2 - x3,\n",
        "    3*x1 + 5*x2 - x3\n",
        "]\n",
        "\n",
        "nghiem_ker = sp.solve(he_ker, [x1, x2, x3], dict=True)\n",
        "print(\"=== Ker(f) (hạt nhân) ===\")\n",
        "print(\"Hệ nghiệm biểu diễn theo tham số:\")\n",
        "print(nghiem_ker)\n",
        "\n",
        "# Nếu nghiệm có dạng x1 = 2t, x2 = -t, x3 = t thì vector cơ sở là (2, -1, 1)\n",
        "ker_basis_vector = sp.Matrix([2, -1, 1])\n",
        "print(\"\\nCơ sở của Ker(f):\")\n",
        "sp.pprint(ker_basis_vector)\n",
        "\n",
        "# ===== Bước 3: Tính ảnh của cơ sở không gian đầu vào để tìm Im(f) =====\n",
        "# Cơ sở của ℝ³: e1 = (1,0,0), e2 = (0,1,0), e3 = (0,0,1)\n",
        "e1 = sp.Matrix([1, 0, 0])\n",
        "e2 = sp.Matrix([0, 1, 0])\n",
        "e3 = sp.Matrix([0, 0, 1])\n",
        "\n",
        "# Ánh xạ tuyến tính f(x) = A * x\n",
        "A = sp.Matrix([\n",
        "    [1, 1, -1],\n",
        "    [2, 3, -1],\n",
        "    [3, 5, -1]\n",
        "])\n",
        "\n",
        "# Ảnh của e1, e2, e3\n",
        "f_e1 = A @ e1\n",
        "f_e2 = A @ e2\n",
        "f_e3 = A @ e3\n",
        "\n",
        "print(\"\\n=== Im(f) (Ảnh) ===\")\n",
        "print(\"f(e1) =\")\n",
        "sp.pprint(f_e1)\n",
        "print(\"f(e2) =\")\n",
        "sp.pprint(f_e2)\n",
        "print(\"f(e3) =\")\n",
        "sp.pprint(f_e3)\n",
        "\n",
        "# ===== Bước 4: Tìm cơ sở ảnh bằng cách rút gọn Gauss các vector f(e1), f(e2), f(e3) =====\n",
        "image_matrix = sp.Matrix.hstack(f_e1, f_e2, f_e3)\n",
        "rref_matrix, pivot_cols = image_matrix.rref()\n",
        "\n",
        "print(\"\\nMa trận ảnh rút gọn (RREF):\")\n",
        "sp.pprint(rref_matrix)\n",
        "print(\"Cột trụ (cơ sở):\", pivot_cols)\n",
        "\n",
        "# Cơ sở của ảnh là các vector tương ứng với các cột trụ\n",
        "image_basis = [image_matrix.col(i) for i in pivot_cols]\n",
        "print(\"\\nCơ sở của Im(f):\")\n",
        "for vec in image_basis:\n",
        "    sp.pprint(vec)\n"
      ],
      "metadata": {
        "colab": {
          "base_uri": "https://localhost:8080/"
        },
        "id": "9NwIPcQ0rglu",
        "outputId": "dcb6299a-4509-4dc0-974e-bf0f7d16c404"
      },
      "execution_count": 12,
      "outputs": [
        {
          "output_type": "stream",
          "name": "stdout",
          "text": [
            "=== Ker(f) (hạt nhân) ===\n",
            "Hệ nghiệm biểu diễn theo tham số:\n",
            "[{x1: 2*x3, x2: -x3}]\n",
            "\n",
            "Cơ sở của Ker(f):\n",
            "⎡2 ⎤\n",
            "⎢  ⎥\n",
            "⎢-1⎥\n",
            "⎢  ⎥\n",
            "⎣1 ⎦\n",
            "\n",
            "=== Im(f) (Ảnh) ===\n",
            "f(e1) =\n",
            "⎡1⎤\n",
            "⎢ ⎥\n",
            "⎢2⎥\n",
            "⎢ ⎥\n",
            "⎣3⎦\n",
            "f(e2) =\n",
            "⎡1⎤\n",
            "⎢ ⎥\n",
            "⎢3⎥\n",
            "⎢ ⎥\n",
            "⎣5⎦\n",
            "f(e3) =\n",
            "⎡-1⎤\n",
            "⎢  ⎥\n",
            "⎢-1⎥\n",
            "⎢  ⎥\n",
            "⎣-1⎦\n",
            "\n",
            "Ma trận ảnh rút gọn (RREF):\n",
            "⎡1  0  -2⎤\n",
            "⎢        ⎥\n",
            "⎢0  1  1 ⎥\n",
            "⎢        ⎥\n",
            "⎣0  0  0 ⎦\n",
            "Cột trụ (cơ sở): (0, 1)\n",
            "\n",
            "Cơ sở của Im(f):\n",
            "⎡1⎤\n",
            "⎢ ⎥\n",
            "⎢2⎥\n",
            "⎢ ⎥\n",
            "⎣3⎦\n",
            "⎡1⎤\n",
            "⎢ ⎥\n",
            "⎢3⎥\n",
            "⎢ ⎥\n",
            "⎣5⎦\n"
          ]
        }
      ]
    },
    {
      "cell_type": "code",
      "source": [
        "import sympy as sp\n",
        "\n",
        "# ===== Bước 1: Khai báo cơ sở R và F =====\n",
        "v1 = sp.Matrix([-1, 1])   # cơ sở xuất phát\n",
        "v2 = sp.Matrix([1, 0])\n",
        "\n",
        "w1 = sp.Matrix([1, 2])    # cơ sở đích\n",
        "w2 = sp.Matrix([1, 3])\n",
        "\n",
        "# ===== Bước 2: Định nghĩa ánh xạ tuyến tính T(x, y) = (x - y, x) =====\n",
        "def T(v):\n",
        "    x, y = v[0], v[1]\n",
        "    return sp.Matrix([x - y, x])\n",
        "\n",
        "# ===== Bước 3: Tính T(v1) và T(v2) =====\n",
        "Tv1 = T(v1)\n",
        "Tv2 = T(v2)\n",
        "\n",
        "# ===== Bước 4: Tìm tọa độ của T(v1) theo cơ sở F =====\n",
        "a1, b1 = sp.symbols('a1 b1')\n",
        "eq1 = sp.Eq(a1*w1 + b1*w2, Tv1)\n",
        "sol1 = sp.solve(eq1, (a1, b1))\n",
        "coord1 = sp.Matrix([sol1[a1], sol1[b1]])\n",
        "\n",
        "# ===== Bước 5: Tìm tọa độ của T(v2) theo cơ sở F =====\n",
        "a2, b2 = sp.symbols('a2 b2')\n",
        "eq2 = sp.Eq(a2*w1 + b2*w2, Tv2)\n",
        "sol2 = sp.solve(eq2, (a2, b2))\n",
        "coord2 = sp.Matrix([sol2[a2], sol2[b2]])\n",
        "\n",
        "# ===== Bước 6: Lập ma trận biểu diễn T theo cặp cơ sở (R, F) =====\n",
        "A = sp.Matrix.hstack(coord1, coord2)\n",
        "\n",
        "# ===== In kết quả =====\n",
        "print(\"Ma trận biểu diễn T trong cơ sở (R, F) là:\")\n",
        "sp.pprint(A)\n"
      ],
      "metadata": {
        "colab": {
          "base_uri": "https://localhost:8080/"
        },
        "id": "AXqyoboorzrW",
        "outputId": "3163d436-de1c-40be-c0dc-9ca53b8e623d"
      },
      "execution_count": 13,
      "outputs": [
        {
          "output_type": "stream",
          "name": "stdout",
          "text": [
            "Ma trận biểu diễn T trong cơ sở (R, F) là:\n",
            "⎡-5  2 ⎤\n",
            "⎢      ⎥\n",
            "⎣3   -1⎦\n"
          ]
        }
      ]
    },
    {
      "cell_type": "code",
      "source": [
        "import sympy as sp\n",
        "\n",
        "# ===== Bước 1: Khai báo các biến =====\n",
        "x, y = sp.symbols('x y')\n",
        "xs, ys = sp.symbols('xs ys')\n",
        "\n",
        "# Phương trình ban đầu\n",
        "sqrt2 = sp.sqrt(2)\n",
        "conic_eq = 5*x**2 - 6*x*y + 5*y**2 + 14*sqrt2*x - 2*sqrt2*y + 18\n",
        "\n",
        "# ===== Bước 2: Xác định góc xoay (theta) loại bỏ xy =====\n",
        "# A = 5, B = -6, C = 5 => tan(2θ) = B / (A - C) = -6 / 0 => θ = π/4\n",
        "# Vì tan(2θ) → ∞ => θ = π/4 => cosθ = sinθ = 1/√2\n",
        "cos_theta = 1 / sp.sqrt(2)\n",
        "sin_theta = 1 / sp.sqrt(2)\n",
        "\n",
        "# ===== Bước 3: Đổi biến x = cosθ·xs - sinθ·ys, y = sinθ·xs + cosθ·ys =====\n",
        "x_new = cos_theta * xs - sin_theta * ys\n",
        "y_new = sin_theta * xs + cos_theta * ys\n",
        "\n",
        "# ===== Bước 4: Thay x, y vào phương trình ban đầu và khai triển lại =====\n",
        "conic_rotated = conic_eq.subs({x: x_new, y: y_new})\n",
        "conic_rotated = sp.expand(conic_rotated)\n",
        "\n",
        "# ===== Bước 5: In kết quả =====\n",
        "print(\"🎯 Phương trình conic sau khi xoay trục là:\")\n",
        "sp.pprint(conic_rotated)\n"
      ],
      "metadata": {
        "colab": {
          "base_uri": "https://localhost:8080/"
        },
        "id": "5anbmZL0s9hu",
        "outputId": "12032867-7409-4539-f2ed-a502b89a940c"
      },
      "execution_count": 15,
      "outputs": [
        {
          "output_type": "stream",
          "name": "stdout",
          "text": [
            "🎯 Phương trình conic sau khi xoay trục là:\n",
            "    2               2             \n",
            "2⋅xs  + 12⋅xs + 8⋅ys  - 16⋅ys + 18\n"
          ]
        }
      ]
    },
    {
      "cell_type": "code",
      "source": [
        "import sympy as sp\n",
        "from sympy import Matrix\n",
        "\n",
        "# Khai báo biến\n",
        "x, y, z = sp.symbols('x y z')\n",
        "a, b, c = sp.symbols('a b c')\n",
        "lam = sp.symbols('lam')\n",
        "\n",
        "# Định nghĩa ánh xạ g\n",
        "def g(v):\n",
        "    x, y, z = v\n",
        "    return Matrix([x + y, z + 2, 0])\n",
        "\n",
        "# Kiểm tra g(0, 0, 0) có bằng (0, 0, 0) không\n",
        "zero_vec = Matrix([0, 0, 0])\n",
        "check_g0 = g(zero_vec)\n",
        "\n",
        "# Kiểm tra tính cộng: g(u + v) = g(u) + g(v)\n",
        "u = Matrix([x, y, z])\n",
        "v = Matrix([a, b, c])\n",
        "\n",
        "left_add = g(u + v)\n",
        "right_add = g(u) + g(v)\n",
        "check_add = left_add.equals(right_add)\n",
        "\n",
        "# Kiểm tra tính nhân vô hướng: g(λ * u) = λ * g(u)\n",
        "left_scalar = g(lam * u)\n",
        "right_scalar = lam * g(u)\n",
        "check_scalar = left_scalar.equals(right_scalar)\n",
        "\n",
        "# In kết quả\n",
        "print(\"g(0,0,0) =\", check_g0)\n",
        "print(\"g(u + v) == g(u) + g(v)?\", check_add)\n",
        "print(\"g(λ * u) == λ * g(u)?\", check_scalar)\n",
        "\n",
        "# Kết luận\n",
        "if check_g0 != zero_vec or not check_add or not check_scalar:\n",
        "    print(\"Kết luận: g(x, y, z) KHÔNG PHẢI là ánh xạ tuyến tính.\")\n",
        "else:\n",
        "    print(\"Kết luận: g(x, y, z) là ánh xạ tuyến tính.\")\n"
      ],
      "metadata": {
        "colab": {
          "base_uri": "https://localhost:8080/"
        },
        "id": "SOvw47z-trrN",
        "outputId": "6ff8ac5c-14cd-4cf1-ea9a-e23b1ce3c30a"
      },
      "execution_count": 16,
      "outputs": [
        {
          "output_type": "stream",
          "name": "stdout",
          "text": [
            "g(0,0,0) = Matrix([[0], [2], [0]])\n",
            "g(u + v) == g(u) + g(v)? False\n",
            "g(λ * u) == λ * g(u)? False\n",
            "Kết luận: g(x, y, z) KHÔNG PHẢI là ánh xạ tuyến tính.\n"
          ]
        }
      ]
    },
    {
      "cell_type": "code",
      "source": [
        "import numpy as np\n",
        "import matplotlib.pyplot as plt\n",
        "\n",
        "# === Bước 1: Tập điểm F ban đầu ===\n",
        "# Danh sách tọa độ các điểm tạo thành hình chữ F (cột là điểm)\n",
        "F = np.array([\n",
        "    [0, 0, 1, 1, 0.5, 0.5, 1, 1, 0.5, 0.5],  # x\n",
        "    [0, 3, 3, 2.5, 2.5, 2, 2, 1, 1, 0]       # y\n",
        "])\n",
        "\n",
        "# === Bước 2: Ma trận biến đổi ===\n",
        "A = np.array([\n",
        "    [0, 1],\n",
        "    [1, -1]\n",
        "])\n",
        "\n",
        "# === Bước 3: Biến đổi tuyến tính ===\n",
        "F_transformed = A @ F\n",
        "\n",
        "# === Bước 4: Vẽ hình gốc và hình sau biến đổi ===\n",
        "plt.figure(figsize=(10, 5))\n",
        "\n",
        "# Hình gốc\n",
        "plt.subplot(1, 2, 1)\n",
        "plt.plot(F[0], F[1], 'b-o')\n",
        "plt.fill(F[0], F[1], color='skyblue', alpha=0.5)\n",
        "plt.title(\"Hình gốc\")\n",
        "plt.axis('equal')\n",
        "plt.grid(True)\n",
        "\n",
        "# Hình sau biến đổi\n",
        "plt.subplot(1, 2, 2)\n",
        "plt.plot(F_transformed[0], F_transformed[1], 'g-o')\n",
        "plt.fill(F_transformed[0], F_transformed[1], color='lightgreen', alpha=0.5)\n",
        "plt.title(\"Hình sau biến đổi tuyến tính\")\n",
        "plt.axis('equal')\n",
        "plt.grid(True)\n",
        "\n",
        "plt.show()\n"
      ],
      "metadata": {
        "colab": {
          "base_uri": "https://localhost:8080/",
          "height": 399
        },
        "id": "P5w6BfrRuVNs",
        "outputId": "89cbc3d2-cbf6-478f-94ed-2496e3a40b22"
      },
      "execution_count": 17,
      "outputs": [
        {
          "output_type": "display_data",
          "data": {
            "text/plain": [
              "<Figure size 1000x500 with 2 Axes>"
            ],
            "image/png": "[encoded data removed]"
          },
          "metadata": {}
        }
      ]
    },
    {
      "cell_type": "code",
      "source": [
        "import sympy as sp\n",
        "\n",
        "# Khai báo các biến\n",
        "v1, v2, w1, w2, a = sp.symbols('v1 v2 w1 w2 a')\n",
        "\n",
        "# Định nghĩa ánh xạ T\n",
        "def T(x, y):\n",
        "    return (x - y, x + 2*y)\n",
        "\n",
        "# Tính T(av + w)\n",
        "T_left = T(a*v1 + w1, a*v2 + w2)\n",
        "\n",
        "# Tính a*T(v) + T(w)\n",
        "T_v = T(v1, v2)\n",
        "T_w = T(w1, w2)\n",
        "T_right = (a * T_v[0] + T_w[0], a * T_v[1] + T_w[1])\n",
        "\n",
        "# So sánh\n",
        "equal = (sp.simplify(T_left[0] - T_right[0]) == 0 and\n",
        "         sp.simplify(T_left[1] - T_right[1]) == 0)\n",
        "\n",
        "# In kết quả\n",
        "print(\"Tuyến tính?\" , equal)\n",
        "print(\"T(a*v + w) =\", T_left)\n",
        "print(\"a*T(v) + T(w) =\", T_right)\n"
      ],
      "metadata": {
        "colab": {
          "base_uri": "https://localhost:8080/"
        },
        "id": "dGOsbrv3uuiE",
        "outputId": "99626455-3a22-4f19-effc-d39ec57701ec"
      },
      "execution_count": 18,
      "outputs": [
        {
          "output_type": "stream",
          "name": "stdout",
          "text": [
            "Tuyến tính? True\n",
            "T(a*v + w) = (a*v1 - a*v2 + w1 - w2, a*v1 + 2*a*v2 + w1 + 2*w2)\n",
            "a*T(v) + T(w) = (a*(v1 - v2) + w1 - w2, a*(v1 + 2*v2) + w1 + 2*w2)\n"
          ]
        }
      ]
    },
    {
      "cell_type": "code",
      "source": [
        "import sympy as sp\n",
        "import numpy as np\n",
        "import matplotlib.pyplot as plt\n",
        "\n",
        "# ===== Bước 1: Tạo ma trận A từ phương trình conic =====\n",
        "a, b, c = 13, -10, 13\n",
        "A = sp.Matrix([[a, b/2],\n",
        "               [b/2, c]])\n",
        "\n",
        "# ===== Bước 2: Tính giá trị riêng và vector riêng của A =====\n",
        "eigenvals = A.eigenvals()\n",
        "eigenvects = A.eigenvects()\n",
        "\n",
        "print(\"Ma trận A:\")\n",
        "sp.pprint(A)\n",
        "\n",
        "print(\"\\nCác giá trị riêng (eigenvalues):\")\n",
        "sp.pprint(eigenvals)\n",
        "\n",
        "print(\"\\nCác vector riêng (eigenvectors):\")\n",
        "for val, mult, vect in eigenvects:\n",
        "    print(f\"\\nλ = {val}\")\n",
        "    sp.pprint(vect[0].evalf())\n"
      ],
      "metadata": {
        "colab": {
          "base_uri": "https://localhost:8080/"
        },
        "id": "gr334gT-vA9c",
        "outputId": "973f0cd6-91de-44ae-fbe9-21203c763c28"
      },
      "execution_count": 19,
      "outputs": [
        {
          "output_type": "stream",
          "name": "stdout",
          "text": [
            "Ma trận A:\n",
            "⎡ 13   -5.0⎤\n",
            "⎢          ⎥\n",
            "⎣-5.0   13 ⎦\n",
            "\n",
            "Các giá trị riêng (eigenvalues):\n",
            "{8.0: 1, 18.0: 1}\n",
            "\n",
            "Các vector riêng (eigenvectors):\n",
            "\n",
            "λ = 8.00000000000000\n",
            "⎡-0.707106781186548⎤\n",
            "⎢                  ⎥\n",
            "⎣-0.707106781186548⎦\n",
            "\n",
            "λ = 18.0000000000000\n",
            "⎡0.707106781186548 ⎤\n",
            "⎢                  ⎥\n",
            "⎣-0.707106781186548⎦\n"
          ]
        }
      ]
    },
    {
      "cell_type": "code",
      "source": [],
      "metadata": {
        "id": "CXnKnyf8vfYU"
      },
      "execution_count": null,
      "outputs": []
    }
  ]
}