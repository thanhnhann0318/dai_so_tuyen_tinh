{
 "cells": [
  {
   "cell_type": "code",
   "execution_count": null,
   "id": "7a661484",
   "metadata": {},
   "outputs": [
    {
     "name": "stdout",
     "output_type": "stream",
     "text": [
      "a) Nghiệm của hệ: [2.7826087  0.04347826 2.43478261]\n",
      "b) R khả nghịch.\n",
      "   Nghịch đảo R:\n",
      " [[-0.04347826  0.47826087 -0.08695652]\n",
      " [-0.39130435  0.30434783  0.2173913 ]\n",
      " [ 0.08695652  0.04347826  0.17391304]]\n",
      "   Giải lại bằng R^-1 * b: [2.7826087  0.04347826 2.43478261]\n",
      "c) Chuẩn Frobenius: 6.082762530298219\n"
     ]
    }
   ],
   "source": [
    "import numpy as np\n",
    "R = np.array([[1, -2, 3],\n",
    "              [2, 0, 1],\n",
    "              [-1, 1, 4]])\n",
    "b = np.array([10, 8, 7])\n",
    "\n",
    "# a) Giải hệ phương trình Rx = b bằng phương pháp np.linalg.solve()\n",
    "x = np.linalg.solve(R, b)\n",
    "print(\"a) Nghiệm của hệ:\", x)\n",
    "\n",
    "#Xác định xem ma trận R có khả nghịch không.\n",
    "if np.linalg.det(R) != 0:\n",
    "    R_inv = np.linalg.inv(R)\n",
    "    x_check = R_inv @ b\n",
    "    print(\"b) R khả nghịch.\")\n",
    "    print(\"   Nghịch đảo R:\\n\", R_inv)\n",
    "    print(\"   Giải lại bằng R^-1 * b:\", x_check)\n",
    "else:\n",
    "    print(\"b) R không khả nghịch.\")\n",
    "\n",
    "# c) Tính chuẩn Frobenius của ma trận R\n",
    "fro = np.linalg.norm(R, 'fro')\n",
    "print(\"c) Chuẩn Frobenius:\", fro)\n"
   ]
  }
 ],
 "metadata": {
  "kernelspec": {
   "display_name": "Python 3",
   "language": "python",
   "name": "python3"
  },
  "language_info": {
   "codemirror_mode": {
    "name": "ipython",
    "version": 3
   },
   "file_extension": ".py",
   "mimetype": "text/x-python",
   "name": "python",
   "nbconvert_exporter": "python",
   "pygments_lexer": "ipython3",
   "version": "3.12.6"
  }
 },
 "nbformat": 4,
 "nbformat_minor": 5
}
