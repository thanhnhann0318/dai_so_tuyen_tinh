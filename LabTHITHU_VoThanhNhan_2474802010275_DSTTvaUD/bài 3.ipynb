{
 "cells": [
  {
   "cell_type": "code",
   "execution_count": null,
   "id": "53192755",
   "metadata": {},
   "outputs": [
    {
     "name": "stdout",
     "output_type": "stream",
     "text": [
      "a) Ma trận nghịch đảo P⁻¹:\n",
      " [[ 0.488 -0.093  0.023 -0.209]\n",
      " [ 0.035  0.279 -0.07   0.128]\n",
      " [-0.116  0.07   0.233 -0.093]\n",
      " [-0.012 -0.093  0.023  0.291]]\n",
      "\n",
      "b) Nghiệm x của hệ phương trình:\n",
      " [0.465 2.105 1.651 0.965]\n",
      "\n",
      "c) Kiểm tra lại P · x:\n",
      " [4. 7. 9. 5.]\n"
     ]
    }
   ],
   "source": [
    "import numpy as np\n",
    "\n",
    "P = np.array([\n",
    "    [2, 1, 0, 1],\n",
    "    [0, 3, 1, -1],\n",
    "    [1, 0, 4, 2],\n",
    "    [0, 1, 0, 3]\n",
    "])\n",
    "b = np.array([4, 7, 9, 5])\n",
    "P_inv = np.linalg.inv(P)\n",
    "x = P_inv @ b\n",
    "kiem_tra = P @ x\n",
    "print(\"a) Ma trận nghịch đảo P⁻¹:\\n\", np.round(P_inv, 3))\n",
    "print(\"\\nb) Nghiệm x của hệ phương trình:\\n\", np.round(x, 3))\n",
    "print(\"\\nc) Kiểm tra lại P · x:\\n\", np.round(kiem_tra, 3))\n"
   ]
  }
 ],
 "metadata": {
  "kernelspec": {
   "display_name": "Python 3",
   "language": "python",
   "name": "python3"
  },
  "language_info": {
   "codemirror_mode": {
    "name": "ipython",
    "version": 3
   },
   "file_extension": ".py",
   "mimetype": "text/x-python",
   "name": "python",
   "nbconvert_exporter": "python",
   "pygments_lexer": "ipython3",
   "version": "3.12.6"
  }
 },
 "nbformat": 4,
 "nbformat_minor": 5
}
