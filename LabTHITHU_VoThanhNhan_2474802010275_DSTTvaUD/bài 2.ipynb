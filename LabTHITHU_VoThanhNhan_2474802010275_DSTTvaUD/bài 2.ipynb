{
 "cells": [
  {
   "cell_type": "code",
   "execution_count": 1,
   "id": "31b9a65c",
   "metadata": {},
   "outputs": [
    {
     "name": "stdout",
     "output_type": "stream",
     "text": [
      "a) M × N =\n",
      " [[ 32  38  44  50]\n",
      " [ 80  96 112 128]\n",
      " [128 154 180 206]\n",
      " [ 12  14  16  18]]\n",
      "\n",
      "b) Định thức M = 0.0\n",
      "\n",
      "c) Hạng của N = 2\n"
     ]
    }
   ],
   "source": [
    "import numpy as np\n",
    "\n",
    "M = np.array([\n",
    "    [1, 2, 3, 0],\n",
    "    [4, 5, 6, 1],\n",
    "    [7, 8, 9, 2],\n",
    "    [0, 1, 1, 0]\n",
    "])\n",
    "\n",
    "N = np.array([\n",
    "    [0, 1, 2, 3],\n",
    "    [4, 5, 6, 7],\n",
    "    [8, 9, 10, 11],\n",
    "    [12, 13, 14, 15]\n",
    "])\n",
    "\n",
    "# a) Tính tích ma trận M × N\n",
    "print(\"a) M × N =\\n\", M @ N)\n",
    "\n",
    "# b) Tính định thức của ma trận M\n",
    "print(\"\\nb) Định thức M =\", round(np.linalg.det(M), 3))\n",
    "\n",
    "# c)  Tính hạng của ma trận N\n",
    "print(\"\\nc) Hạng của N =\", np.linalg.matrix_rank(N))"
   ]
  }
 ],
 "metadata": {
  "kernelspec": {
   "display_name": "Python 3",
   "language": "python",
   "name": "python3"
  },
  "language_info": {
   "codemirror_mode": {
    "name": "ipython",
    "version": 3
   },
   "file_extension": ".py",
   "mimetype": "text/x-python",
   "name": "python",
   "nbconvert_exporter": "python",
   "pygments_lexer": "ipython3",
   "version": "3.12.6"
  }
 },
 "nbformat": 4,
 "nbformat_minor": 5
}
