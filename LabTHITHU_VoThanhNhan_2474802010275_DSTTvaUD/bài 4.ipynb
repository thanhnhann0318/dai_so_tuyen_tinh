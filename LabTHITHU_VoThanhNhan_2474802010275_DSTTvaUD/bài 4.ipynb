{
 "cells": [
  {
   "cell_type": "code",
   "execution_count": null,
   "id": "81ad5fa9",
   "metadata": {},
   "outputs": [
    {
     "name": "stdout",
     "output_type": "stream",
     "text": [
      "a) Giá trị riêng:\n",
      "[3.453+0.j    2.773+1.468j 2.773-1.468j]\n",
      "\n",
      "b) Vector riêng (cột):\n",
      "[[ 0.833+0.j    -0.262-0.314j -0.262+0.314j]\n",
      " [ 0.455+0.j    -0.782+0.j    -0.782-0.j   ]\n",
      " [ 0.313+0.j    -0.22 +0.417j -0.22 -0.417j]]\n",
      "\n",
      "c) Vector riêng sau khi chuẩn hóa:\n",
      "[[ 0.833+0.j    -0.262-0.314j -0.262+0.314j]\n",
      " [ 0.455+0.j    -0.782+0.j    -0.782+0.j   ]\n",
      " [ 0.313+0.j    -0.22 +0.417j -0.22 -0.417j]]\n"
     ]
    }
   ],
   "source": [
    "import numpy as np\n",
    "Q = np.array([\n",
    "    [4, -1, 0],\n",
    "    [1, 3, -2],\n",
    "    [0, 1, 2]\n",
    "])\n",
    "\n",
    "# a) Tìm các giá trị riêng của Q\n",
    "eigenvalues, eigenvectors = np.linalg.eig(Q)\n",
    "print(\"a) Giá trị riêng:\")\n",
    "print(np.round(eigenvalues, 3))  # Làm tròn cho dễ nhìn\n",
    "\n",
    "# b) Tìm các vector riêng tương ứng với các giá trị riêng.\n",
    "print(\"\\nb) Vector riêng (cột):\")\n",
    "print(np.round(eigenvectors, 3))\n",
    "\n",
    "# c) Chuẩn hóa tất cả các vector riêng (độ dài bằng 1)\n",
    "norm_vectors = eigenvectors / np.linalg.norm(eigenvectors, axis=0)\n",
    "print(\"\\nc) Vector riêng sau khi chuẩn hóa:\")\n",
    "print(np.round(norm_vectors, 3))"
   ]
  }
 ],
 "metadata": {
  "kernelspec": {
   "display_name": "Python 3",
   "language": "python",
   "name": "python3"
  },
  "language_info": {
   "codemirror_mode": {
    "name": "ipython",
    "version": 3
   },
   "file_extension": ".py",
   "mimetype": "text/x-python",
   "name": "python",
   "nbconvert_exporter": "python",
   "pygments_lexer": "ipython3",
   "version": "3.12.6"
  }
 },
 "nbformat": 4,
 "nbformat_minor": 5
}
