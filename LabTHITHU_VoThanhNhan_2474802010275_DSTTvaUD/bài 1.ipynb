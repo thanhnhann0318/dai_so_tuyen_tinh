{
 "cells": [
  {
   "cell_type": "code",
   "execution_count": 3,
   "id": "6c6e7dbb",
   "metadata": {},
   "outputs": [
    {
     "name": "stdout",
     "output_type": "stream",
     "text": [
      "a)\n",
      "A + B = [3 3 1 5]\n",
      "3A - 2B = [  4 -11  13 -10]\n",
      "\n",
      "b)\n",
      "A · B = -8\n",
      "Góc (độ) = 108.376\n",
      "\n",
      "c)\n",
      "Cᵀ · C =\n",
      " [[ 5  0 -1]\n",
      " [ 0 14 10]\n",
      " [-1 10 17]]\n"
     ]
    }
   ],
   "source": [
    "import numpy as np\n",
    "from math import acos, degrees\n",
    "\n",
    "\n",
    "A = np.array([2, -1, 3, 0])\n",
    "B = np.array([1, 4, -2, 5])\n",
    "C = np.array([[1, 2, -1],\n",
    "              [0, 3, 4],\n",
    "              [2, -1, 0]])\n",
    "\n",
    "# a) Tính tổng A + B và tích số 3A − 2B.\n",
    "print(\"a)\")\n",
    "print(\"A + B =\", A + B)\n",
    "print(\"3A - 2B =\", 3*A - 2*B)\n",
    "\n",
    "# b) Tính tích vô hướng A · B và góc giữa hai vector (tính bằng độ, làm tròn đến 3 chữ số thập phân)\n",
    "dot = A @ B\n",
    "cos = dot / (np.linalg.norm(A) * np.linalg.norm(B))\n",
    "angle = degrees(acos(cos))\n",
    "\n",
    "print(\"\\nb)\")\n",
    "print(\"A · B =\", dot)\n",
    "print(\"Góc (độ) =\", round(angle, 3))\n",
    "\n",
    "# c) Tính tích ma trận C\n",
    "print(\"\\nc)\")\n",
    "print(\"Cᵀ · C =\\n\", C.T @ C)\n",
    "\n"
   ]
  }
 ],
 "metadata": {
  "kernelspec": {
   "display_name": "Python 3",
   "language": "python",
   "name": "python3"
  },
  "language_info": {
   "codemirror_mode": {
    "name": "ipython",
    "version": 3
   },
   "file_extension": ".py",
   "mimetype": "text/x-python",
   "name": "python",
   "nbconvert_exporter": "python",
   "pygments_lexer": "ipython3",
   "version": "3.12.6"
  }
 },
 "nbformat": 4,
 "nbformat_minor": 5
}
