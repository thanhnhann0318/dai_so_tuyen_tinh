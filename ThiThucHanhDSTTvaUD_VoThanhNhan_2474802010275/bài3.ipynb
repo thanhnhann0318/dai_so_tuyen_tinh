{
 "cells": [
  {
   "cell_type": "code",
   "execution_count": 1,
   "id": "9b9cb208",
   "metadata": {},
   "outputs": [
    {
     "name": "stdout",
     "output_type": "stream",
     "text": [
      "a)\n",
      "Ma trận nghịch đảo của P =\n",
      " [[ 0.5    0.1    0.1   -0.3  ]\n",
      " [-0.143  0.2    0.057  0.114]\n",
      " [-0.036 -0.05   0.164  0.079]\n",
      " [-0.321 -0.05  -0.121  0.507]]\n",
      "\n",
      "b)\n",
      "Nghiệm của hệ phương trình [x, y, z, w] =\n",
      " [2.    1.714 0.429 0.857]\n",
      "\n",
      "c)\n",
      "P * nghiệm =\n",
      " [6. 8. 3. 7.]\n",
      "Vector ban đầu b =\n",
      " [6 8 3 7]\n"
     ]
    }
   ],
   "source": [
    "import numpy as np\n",
    "from numpy.linalg import inv, LinAlgError\n",
    "\n",
    "# a) Khởi tạo ma trận P\n",
    "P = np.array([\n",
    "    [3, -1, 0, 2],\n",
    "    [1, 4, -2, 0],\n",
    "    [0, 1, 5, -1],\n",
    "    [2, 0, 1, 3]\n",
    "])\n",
    "\n",
    "print(\"a)\")\n",
    "\n",
    "try:\n",
    "    P_inv = inv(P)\n",
    "    print(\"Ma trận nghịch đảo của P =\\n\", np.round(P_inv, 3))\n",
    "except LinAlgError:\n",
    "    print(\"Ma trận P không khả nghịch (định thức bằng 0).\")\n",
    "\n",
    "# b) Giải hệ phương trình: P * [x, y, z, w]^T = b\n",
    "print(\"\\nb)\")\n",
    "b = np.array([6, 8, 3, 7])\n",
    "x = np.dot(P_inv, b)\n",
    "print(\"Nghiệm của hệ phương trình [x, y, z, w] =\\n\", np.round(x, 3))\n",
    "\n",
    "# c) Kiểm tra lại nghiệm\n",
    "print(\"\\nc)\")\n",
    "b_check = np.dot(P, x)\n",
    "print(\"P * nghiệm =\\n\", np.round(b_check, 3))\n",
    "print(\"Vector ban đầu b =\\n\", b)\n"
   ]
  }
 ],
 "metadata": {
  "kernelspec": {
   "display_name": "Python 3",
   "language": "python",
   "name": "python3"
  },
  "language_info": {
   "codemirror_mode": {
    "name": "ipython",
    "version": 3
   },
   "file_extension": ".py",
   "mimetype": "text/x-python",
   "name": "python",
   "nbconvert_exporter": "python",
   "pygments_lexer": "ipython3",
   "version": "3.12.6"
  }
 },
 "nbformat": 4,
 "nbformat_minor": 5
}
