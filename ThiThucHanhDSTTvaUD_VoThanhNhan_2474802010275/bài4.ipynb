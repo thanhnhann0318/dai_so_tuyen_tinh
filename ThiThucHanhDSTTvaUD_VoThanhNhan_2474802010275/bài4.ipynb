{
 "cells": [
  {
   "cell_type": "code",
   "execution_count": 1,
   "id": "ad44d676",
   "metadata": {},
   "outputs": [
    {
     "name": "stdout",
     "output_type": "stream",
     "text": [
      "a) Giá trị riêng:\n",
      "[6.355+0.j    2.822+1.077j 2.822-1.077j]\n",
      "\n",
      "b) Vector riêng (mỗi cột là 1 vector):\n",
      "[[ 0.748+0.j    -0.374+0.342j -0.374-0.342j]\n",
      " [-0.189+0.j     0.095+0.574j  0.095-0.574j]\n",
      " [ 0.636+0.j     0.636+0.j     0.636-0.j   ]]\n",
      "\n",
      "c) Vector riêng sau khi chuẩn hóa:\n",
      "Vector 1: [ 0.748+0.j -0.189+0.j  0.636+0.j]\n",
      "Vector 2: [-0.374+0.342j  0.095+0.574j  0.636+0.j   ]\n",
      "Vector 3: [-0.374-0.342j  0.095-0.574j  0.636-0.j   ]\n"
     ]
    }
   ],
   "source": [
    "import numpy as np\n",
    "Q = np.array([\n",
    "    [5, -2, 1],\n",
    "    [0, 3, -1],\n",
    "    [2, 0, 4]\n",
    "])\n",
    "values, vectors = np.linalg.eig(Q)\n",
    "\n",
    "# a) In giá trị riêng\n",
    "print(\"a) Giá trị riêng:\")\n",
    "print(np.round(values, 3))\n",
    "\n",
    "# b) In vector riêng\n",
    "print(\"\\nb) Vector riêng (mỗi cột là 1 vector):\")\n",
    "print(np.round(vectors, 3))\n",
    "\n",
    "# c) Chuẩn hóa vector riêng (độ dài = 1)\n",
    "print(\"\\nc) Vector riêng sau khi chuẩn hóa:\")\n",
    "for i in range(len(values)):\n",
    "    v = vectors[:, i]\n",
    "    v_norm = v / np.linalg.norm(v)\n",
    "    print(f\"Vector {i+1}:\", np.round(v_norm, 3))\n"
   ]
  }
 ],
 "metadata": {
  "kernelspec": {
   "display_name": "Python 3",
   "language": "python",
   "name": "python3"
  },
  "language_info": {
   "codemirror_mode": {
    "name": "ipython",
    "version": 3
   },
   "file_extension": ".py",
   "mimetype": "text/x-python",
   "name": "python",
   "nbconvert_exporter": "python",
   "pygments_lexer": "ipython3",
   "version": "3.12.6"
  }
 },
 "nbformat": 4,
 "nbformat_minor": 5
}
