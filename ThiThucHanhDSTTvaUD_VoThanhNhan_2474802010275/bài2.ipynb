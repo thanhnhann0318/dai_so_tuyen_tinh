{
 "cells": [
  {
   "cell_type": "code",
   "execution_count": 1,
   "id": "b1ca80fd",
   "metadata": {},
   "outputs": [
    {
     "name": "stdout",
     "output_type": "stream",
     "text": [
      "a) Tích ma trận M × N =\n",
      " [[ -2  13   0  -5]\n",
      " [  2   0  12  30]\n",
      " [ 17   7  28 -14]\n",
      " [-13   3   5  15]]\n",
      "\n",
      "b) Định thức của ma trận M = 409.0\n",
      "\n",
      "c) Hạng của ma trận N = 4\n"
     ]
    }
   ],
   "source": [
    "import numpy as np\n",
    "from numpy.linalg import det, matrix_rank\n",
    "M = np.array([\n",
    "    [2, -1, 3, 0],\n",
    "    [1, 4, -2, 5],\n",
    "    [0, 2, 6, -3],\n",
    "    [-1, 0, 1, 4]\n",
    "])\n",
    "\n",
    "N = np.array([\n",
    "    [1, 3, -2, 0],\n",
    "    [4, -1, 5, 2],\n",
    "    [0, 2, 3, -1],\n",
    "    [-3, 1, 0, 4]\n",
    "])\n",
    "\n",
    "# a) Tính tích ma trận M × N\n",
    "product_MN = np.dot(M, N)\n",
    "\n",
    "print(\"a) Tích ma trận M × N =\\n\", product_MN)\n",
    "\n",
    "# b) Tính định thức của ma trận M\n",
    "# Ma trận M là ma trận vuông (4x4) nên có thể tính định thức\n",
    "det_M = det(M)\n",
    "\n",
    "print(\"\\nb) Định thức của ma trận M =\", round(det_M, 3))\n",
    "\n",
    "# c) Tính hạng của ma trận N\n",
    "rank_N = matrix_rank(N)\n",
    "\n",
    "print(\"\\nc) Hạng của ma trận N =\", rank_N)\n"
   ]
  }
 ],
 "metadata": {
  "kernelspec": {
   "display_name": "Python 3",
   "language": "python",
   "name": "python3"
  },
  "language_info": {
   "codemirror_mode": {
    "name": "ipython",
    "version": 3
   },
   "file_extension": ".py",
   "mimetype": "text/x-python",
   "name": "python",
   "nbconvert_exporter": "python",
   "pygments_lexer": "ipython3",
   "version": "3.12.6"
  }
 },
 "nbformat": 4,
 "nbformat_minor": 5
}
