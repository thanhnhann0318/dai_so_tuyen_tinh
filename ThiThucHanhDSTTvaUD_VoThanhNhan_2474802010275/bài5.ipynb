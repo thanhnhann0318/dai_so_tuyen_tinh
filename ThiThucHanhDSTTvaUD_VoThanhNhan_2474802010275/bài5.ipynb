{
 "cells": [
  {
   "cell_type": "code",
   "execution_count": 1,
   "id": "5e00262b",
   "metadata": {},
   "outputs": [
    {
     "name": "stdout",
     "output_type": "stream",
     "text": [
      "a) Nghiệm của hệ: [2.788 1.529 1.188]\n",
      "\n",
      "b) Định thức = 85.0\n",
      "R khả nghịch. Nghiệm giải lại: [2.788 1.529 1.188]\n",
      "So sánh: True\n",
      "\n",
      "c) Chuẩn Frobenius = 8.0\n"
     ]
    }
   ],
   "source": [
    "import numpy as np\n",
    "R = np.array([[4, -1, 2],\n",
    "              [1, 3, -2],\n",
    "              [0, 2, 5]])\n",
    "b = np.array([12, 5, 9])\n",
    "\n",
    "# a) Giải hệ Rx = b\n",
    "x1 = np.linalg.solve(R, b)\n",
    "print(\"a) Nghiệm của hệ:\", np.round(x1, 3))\n",
    "\n",
    "# b) Kiểm tra khả nghịch và giải lại bằng R⁻¹ * b nếu có\n",
    "det_R = np.linalg.det(R)\n",
    "print(\"\\nb) Định thức =\", round(det_R, 3))\n",
    "\n",
    "if det_R != 0:\n",
    "    x2 = np.dot(np.linalg.inv(R), b)\n",
    "    print(\"R khả nghịch. Nghiệm giải lại:\", np.round(x2, 3))\n",
    "    print(\"So sánh:\", np.allclose(x1, x2))  # True nếu giống nhau\n",
    "else:\n",
    "    print(\"R không khả nghịch.\")\n",
    "\n",
    "# c) Chuẩn Frobenius\n",
    "frob = np.linalg.norm(R, 'fro')\n",
    "print(\"\\nc) Chuẩn Frobenius =\", round(frob, 3))\n"
   ]
  }
 ],
 "metadata": {
  "kernelspec": {
   "display_name": "Python 3",
   "language": "python",
   "name": "python3"
  },
  "language_info": {
   "codemirror_mode": {
    "name": "ipython",
    "version": 3
   },
   "file_extension": ".py",
   "mimetype": "text/x-python",
   "name": "python",
   "nbconvert_exporter": "python",
   "pygments_lexer": "ipython3",
   "version": "3.12.6"
  }
 },
 "nbformat": 4,
 "nbformat_minor": 5
}
