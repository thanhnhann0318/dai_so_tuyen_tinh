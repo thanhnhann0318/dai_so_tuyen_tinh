{
 "cells": [
  {
   "cell_type": "code",
   "execution_count": 1,
   "id": "656848a1",
   "metadata": {},
   "outputs": [
    {
     "name": "stdout",
     "output_type": "stream",
     "text": [
      "a)\n",
      "Tổng A + B = [2 3 1 6]\n",
      "Tích số 2A + 3B = [ 3 11  2 14]\n",
      "\n",
      "b)\n",
      "Tích vô hướng A · B = -5\n",
      "Góc giữa hai vector (độ) = 99.594\n",
      "\n",
      "c)\n",
      "Tích ma trận C * C^T =\n",
      " [[14 -8 13]\n",
      " [-8 21 -2]\n",
      " [13 -2 29]]\n"
     ]
    }
   ],
   "source": [
    "import numpy as np\n",
    "from numpy.linalg import norm\n",
    "from math import degrees, acos\n",
    "A = np.array([3, -2, 1, 4])\n",
    "B = np.array([-1, 5, 0, 2])\n",
    "C = np.array([\n",
    "    [2, -1, 3],\n",
    "    [1, 4, -2],\n",
    "    [0, 2, 5]\n",
    "])\n",
    "\n",
    "# a) Tính tổng A + B và tích số 2A + 3B\n",
    "sum_AB = A + B\n",
    "linear_combination = 2*A + 3*B\n",
    "\n",
    "print(\"a)\")\n",
    "print(\"Tổng A + B =\", sum_AB)\n",
    "print(\"Tích số 2A + 3B =\", linear_combination)\n",
    "\n",
    "# b) Tích vô hướng A · B và góc giữa hai vector (độ)\n",
    "dot_product = np.dot(A, B)\n",
    "cos_theta = dot_product / (norm(A) * norm(B))\n",
    "angle_degrees = round(degrees(acos(cos_theta)), 3)\n",
    "\n",
    "print(\"\\nb)\")\n",
    "print(\"Tích vô hướng A · B =\", dot_product)\n",
    "print(\"Góc giữa hai vector (độ) =\", angle_degrees)\n",
    "\n",
    "# c) Tính tích ma trận C nhân với chuyển vị của nó: C * C^T\n",
    "product_C_CT = np.dot(C, C.T)\n",
    "\n",
    "print(\"\\nc)\")\n",
    "print(\"Tích ma trận C * C^T =\\n\", product_C_CT)\n"
   ]
  }
 ],
 "metadata": {
  "kernelspec": {
   "display_name": "Python 3",
   "language": "python",
   "name": "python3"
  },
  "language_info": {
   "codemirror_mode": {
    "name": "ipython",
    "version": 3
   },
   "file_extension": ".py",
   "mimetype": "text/x-python",
   "name": "python",
   "nbconvert_exporter": "python",
   "pygments_lexer": "ipython3",
   "version": "3.12.6"
  }
 },
 "nbformat": 4,
 "nbformat_minor": 5
}
